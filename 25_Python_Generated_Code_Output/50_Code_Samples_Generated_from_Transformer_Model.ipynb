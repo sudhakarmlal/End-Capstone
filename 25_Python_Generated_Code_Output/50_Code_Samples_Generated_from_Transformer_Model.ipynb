{
  "nbformat": 4,
  "nbformat_minor": 0,
  "metadata": {
    "accelerator": "GPU",
    "colab": {
      "name": "50_Code_Samples_Generated_from_Transformer_Model.ipynb",
      "provenance": [],
      "collapsed_sections": []
    },
    "kernelspec": {
      "display_name": "Python 3",
      "language": "python",
      "name": "python3"
    },
    "language_info": {
      "codemirror_mode": {
        "name": "ipython",
        "version": 3
      },
      "file_extension": ".py",
      "mimetype": "text/x-python",
      "name": "python",
      "nbconvert_exporter": "python",
      "pygments_lexer": "ipython3",
      "version": "3.8.2"
    }
  },
  "cells": [
    {
      "cell_type": "markdown",
      "metadata": {
        "id": "S8C93617myYj"
      },
      "source": [
        "## 50 Code samples generated out of the transformer Model\n",
        "\n",
        "Below are the code output generated out of the model output\n",
        "\n",
        "The python code generated is in the form of tokens.This has to further formatted to generate appropriate python code.\n",
        "\n",
        "\n",
        "A python intepreter has to be used to run the generated python code to verify if its working"
      ]
    },
    {
      "cell_type": "code",
      "metadata": {
        "id": "SLufM2mGeOtp"
      },
      "source": [
        "def translate_sentence(sentence, src_field, trg_field, model, device, max_len = 50):\n",
        "    \n",
        "    model.eval()\n",
        "        \n",
        "    if isinstance(sentence, str):\n",
        "        nlp = spacy.load('en')\n",
        "        tokens = [token.text.lower() for token in nlp(sentence)]\n",
        "    else:\n",
        "        tokens = [token.lower() for token in sentence]\n",
        "\n",
        "    tokens = [src_field.init_token] + tokens + [src_field.eos_token]\n",
        "        \n",
        "    src_indexes = [src_field.vocab.stoi[token] for token in tokens]\n",
        "\n",
        "    src_tensor = torch.LongTensor(src_indexes).unsqueeze(0).to(device)\n",
        "    \n",
        "    src_mask = model.make_src_mask(src_tensor)\n",
        "    \n",
        "    with torch.no_grad():\n",
        "        enc_src = model.encoder(src_tensor, src_mask)\n",
        "\n",
        "    trg_indexes = [trg_field.vocab.stoi[trg_field.init_token]]\n",
        "\n",
        "    for i in range(max_len):\n",
        "\n",
        "        trg_tensor = torch.LongTensor(trg_indexes).unsqueeze(0).to(device)\n",
        "\n",
        "        trg_mask = model.make_trg_mask(trg_tensor)\n",
        "        \n",
        "        with torch.no_grad():\n",
        "            output, attention = model.decoder(trg_tensor, enc_src, trg_mask, src_mask)\n",
        "        \n",
        "        pred_token = output.argmax(2)[:,-1].item()\n",
        "        \n",
        "        trg_indexes.append(pred_token)\n",
        "\n",
        "        if pred_token == trg_field.vocab.stoi[trg_field.eos_token]:\n",
        "            break\n",
        "    \n",
        "    trg_tokens = [trg_field.vocab.itos[i] for i in trg_indexes]\n",
        "    \n",
        "    return trg_tokens[1:], attention"
      ],
      "execution_count": null,
      "outputs": []
    },
    {
      "cell_type": "code",
      "metadata": {
        "id": "Gqa7KbWyeme4",
        "colab": {
          "base_uri": "https://localhost:8080/"
        },
        "outputId": "3beb2870-e343-42d3-c733-770eac6f9edc"
      },
      "source": [
        "example_idx = 0\n",
        "\n",
        "src = vars(train_dataset.examples[example_idx])['English']\n",
        "trg = vars(train_dataset.examples[example_idx])['Python']\n",
        "\n",
        "print(f'src = {src}')\n",
        "print(f'trg = {trg}')"
      ],
      "execution_count": null,
      "outputs": [
        {
          "output_type": "stream",
          "text": [
            "src = ['define', 'a', 'function', 'that', 'can', 'accept', 'an', 'integer', 'number', 'as', 'input', 'and', 'print', 'the', 'it', 'is', 'an', 'even', 'number', 'if', 'the', 'number', 'is', 'even', 'otherwise', 'print', 'it', 'is', 'an', 'odd', 'number']\n",
            "trg = ['def', 'even_or_odd_num', '(', 'n', ')', ':', 'NEWLINE', 'INDENT', 'if', 'n', '%', '2', '==', '0', ':', 'NEWLINE', 'INDENT', 'print', '(', '\"It is an even number\"', ')', 'NEWLINE', 'DEDENT', 'else', ':', 'NEWLINE', 'INDENT', 'print', '(', '\"It is an odd number\"', ')', 'NEWLINE', 'DEDENT', 'DEDENT']\n"
          ],
          "name": "stdout"
        }
      ]
    },
    {
      "cell_type": "code",
      "metadata": {
        "id": "N8lVDbmXfQfd",
        "colab": {
          "base_uri": "https://localhost:8080/"
        },
        "outputId": "e7a697aa-f069-4c93-cac6-d4a1218f5c66"
      },
      "source": [
        "translation, attention = translate_sentence(src, SRC, TRG, model, device)\n",
        "\n",
        "print(f'predicted trg = {translation}')"
      ],
      "execution_count": null,
      "outputs": [
        {
          "output_type": "stream",
          "text": [
            "predicted trg = ['def', 'even_or_odd_num', '(', 'n', ')', ':', 'NEWLINE', 'INDENT', 'if', 'n', '%', '2', '==', '0', ':', 'NEWLINE', 'INDENT', 'print', '(', '\"It is an even number\"', ')', 'NEWLINE', 'DEDENT', 'else', ':', 'NEWLINE', 'INDENT', 'print', '(', '\"It is an odd number\"', ')', 'NEWLINE', 'DEDENT', 'DEDENT', '<eos>']\n"
          ],
          "name": "stdout"
        }
      ]
    },
    {
      "cell_type": "markdown",
      "metadata": {
        "id": "1tdwzQnNloLA"
      },
      "source": [
        "## Generate Python Code\n",
        "Utilities to be written to generate python code.\n",
        "This utility will first format the python code generated out of model prediction so that the same can be executed"
      ]
    },
    {
      "cell_type": "markdown",
      "metadata": {
        "id": "3MwLbPiLl5lq"
      },
      "source": [
        "#### Format to Python code utility which reads the predicted list of tokens and converts it to python code"
      ]
    },
    {
      "cell_type": "code",
      "metadata": {
        "id": "KSeg_b9_Rf0t"
      },
      "source": [
        "import tokenize\n",
        "def format_to_python_code(list_tokens):\n",
        "  final_list = []\n",
        "  for i in range(len(list_tokens)):\n",
        "  #print(list_test2_mod[i],list_test2_mod[i] == 'NEWLINE')\n",
        "  #final_list.append(list_test2_mod[i])\n",
        "    if i > 0:\n",
        "      if i+1 < len(list_tokens) and list_tokens[i-1] != 'NEWLINE':\n",
        "      #print(list_test_mod[i],(list_test_mod[i+1] == 'NEWLINE'))\n",
        "        p = i -1\n",
        "        if list_tokens[i] != 'NEWLINE' and list_tokens[p] != 'NEWLINE' and  list_tokens[i] != 'INDENT' and  list_tokens[p] != 'INDENT':\n",
        "            final_list.append(' ')\n",
        "  #if list_test2_mod[i] == tokenize.COMMENT:\n",
        "                #continue\n",
        "  #elif list_test2_mod[i] == tokenize.ENCODING:\n",
        "                #continue\n",
        "    if list_tokens[i] == 'INDENT':\n",
        "                  final_list.append(\"  \")\n",
        "    elif list_tokens[i] == 'DEDENT':\n",
        "                #final_list.append(' ')\n",
        "                  continue\n",
        "    elif list_tokens[i] == 'NEWLINE':\n",
        "                  #print(\"Adding new line\")\n",
        "                  final_list.append(\"\\n\")\n",
        "    elif list_tokens[i] == 'return':\n",
        "      final_list.append(\"  \"+list_tokens[i])              \n",
        "    else:\n",
        "      final_list.append(list_tokens[i])\n",
        "\n",
        "  #elif list_test2_mod[i] == tokenize.ENDMARKER :\n",
        "                #continue\n",
        "\n",
        "  return final_list"
      ],
      "execution_count": null,
      "outputs": []
    },
    {
      "cell_type": "markdown",
      "metadata": {
        "id": "ggP0LQuNmGyg"
      },
      "source": [
        "#### Sample Python code output generated out of the format python code utility"
      ]
    },
    {
      "cell_type": "code",
      "metadata": {
        "colab": {
          "base_uri": "https://localhost:8080/"
        },
        "id": "kYuzH6hVXvHF",
        "outputId": "d27bafbb-10c6-4020-e0a0-b8fb7e50cff6"
      },
      "source": [
        "file1 = open(\"/content/gdrive/MyDrive/data/python1.py\",\"w\") \n",
        "#L = [\"This is Delhi \\n\",\"This is Paris \\n\",\"This is London \\n\"]  \n",
        "  \n",
        "# \\n is placed to indicate EOL (End of Line) \n",
        "#file1.write(\"Hello \\n\") \n",
        "file1.writelines(format_to_python_code(translation[:-1])) \n",
        "file1.close() #to change file access modes \n",
        "  \n",
        "file1 = open(\"/content/gdrive/MyDrive/data/python1.py\",\"r+\")  \n",
        "  \n",
        "print (\"Output of Read function is \")\n",
        "print (file1.read()) \n",
        "print()\n"
      ],
      "execution_count": null,
      "outputs": [
        {
          "output_type": "stream",
          "text": [
            "Output of Read function is \n",
            "st = \"Where is this going? Could you please help me understand!\"\n",
            "vowels = \"AEIOUaeiou\"\n",
            "for v in vowels :\n",
            "  st = st . replace ( v , '_' )\n",
            " print ( st )\n",
            "\n",
            "\n"
          ],
          "name": "stdout"
        }
      ]
    },
    {
      "cell_type": "code",
      "metadata": {
        "id": "mlpVqymUgHLm",
        "colab": {
          "base_uri": "https://localhost:8080/"
        },
        "outputId": "8749f6fa-0598-4f90-df83-83f8ba93a062"
      },
      "source": [
        "example_idx = 1\n",
        "\n",
        "src = vars(train_dataset.examples[example_idx])['English']\n",
        "trg = vars(train_dataset.examples[example_idx])['Python']\n",
        "\n",
        "print(f'src = {src}')\n",
        "print(f'trg = {trg}')"
      ],
      "execution_count": null,
      "outputs": [
        {
          "output_type": "stream",
          "text": [
            "src = ['write', 'a', 'program', 'to', 'print', 'a', 'given', 'string', 'replacing', 'all', 'the', 'vowels', 'with']\n",
            "trg = ['st', '=', '\"Where is this going? Could you please help me understand!\"', 'NEWLINE', 'vowels', '=', '\"AEIOUaeiou\"', 'NEWLINE', 'for', 'v', 'in', 'vowels', ':', 'NEWLINE', 'INDENT', 'st', '=', 'st', '.', 'replace', '(', 'v', ',', \"'_'\", ')', 'NEWLINE', 'DEDENT', 'print', '(', 'st', ')', 'NEWLINE']\n"
          ],
          "name": "stdout"
        }
      ]
    },
    {
      "cell_type": "code",
      "metadata": {
        "id": "qcgS8xRAgMOT",
        "colab": {
          "base_uri": "https://localhost:8080/"
        },
        "outputId": "7f40a2c4-f398-4972-fdde-8a553a9a7f80"
      },
      "source": [
        "translation, attention = translate_sentence(src, SRC, TRG, model, device)\n",
        "\n",
        "print(f'predicted trg = {translation}')"
      ],
      "execution_count": null,
      "outputs": [
        {
          "output_type": "stream",
          "text": [
            "predicted trg = ['st', '=', '\"Where is this going? Could you please help me understand!\"', 'NEWLINE', 'vowels', '=', '\"AEIOUaeiou\"', 'NEWLINE', 'for', 'v', 'in', 'vowels', ':', 'NEWLINE', 'INDENT', 'st', '=', 'st', '.', 'replace', '(', 'v', ',', \"'_'\", ')', 'NEWLINE', 'DEDENT', 'print', '(', 'st', ')', 'NEWLINE', '<eos>']\n"
          ],
          "name": "stdout"
        }
      ]
    },
    {
      "cell_type": "code",
      "metadata": {
        "colab": {
          "base_uri": "https://localhost:8080/"
        },
        "id": "I216MvjwcG4D",
        "outputId": "7fb3eadb-a22b-430a-dd2d-36a3e62a5a06"
      },
      "source": [
        "file1 = open(\"/content/gdrive/MyDrive/data/python2.py\",\"w\") \n",
        "#L = [\"This is Delhi \\n\",\"This is Paris \\n\",\"This is London \\n\"]  \n",
        "  \n",
        "# \\n is placed to indicate EOL (End of Line) \n",
        "#file1.write(\"Hello \\n\") \n",
        "file1.writelines(format_python_program(translation[:-1])) \n",
        "file1.close() #to change file access modes \n",
        "  \n",
        "file1 = open(\"/content/gdrive/MyDrive/data/python2.py\",\"r+\")  \n",
        "  \n",
        "print (\"Output of Read function is \")\n",
        "print (file1.read()) \n",
        "print()"
      ],
      "execution_count": null,
      "outputs": [
        {
          "output_type": "stream",
          "text": [
            "Output of Read function is \n",
            "st = \"Where is this going? Could you please help me understand!\"\n",
            "vowels = \"AEIOUaeiou\"\n",
            "for v in vowels :\n",
            "\t st = st . replace ( v , '_' )\n",
            " print ( st )\n",
            "\n",
            "\n"
          ],
          "name": "stdout"
        }
      ]
    },
    {
      "cell_type": "code",
      "metadata": {
        "colab": {
          "base_uri": "https://localhost:8080/"
        },
        "id": "1DqA--CGdVw4",
        "outputId": "b7159738-9ed6-4ed4-f0bb-ec27ba55a5b3"
      },
      "source": [
        "example_idx = 3\n",
        "\n",
        "src = vars(train_dataset.examples[example_idx])['English']\n",
        "trg = vars(train_dataset.examples[example_idx])['Python']\n",
        "\n",
        "print(f'src = {src}')\n",
        "print(f'trg = {trg}')"
      ],
      "execution_count": null,
      "outputs": [
        {
          "output_type": "stream",
          "text": [
            "src = ['python', 'sigmoid', 'function']\n",
            "trg = ['def', 'sigmoid_activation', '(', 'l', ')', ':', 'NEWLINE', 'INDENT', 'return', '[', 'round', '(', '1', '/', '(', '1', '+', 'math', '.', 'exp', '(', '-', 'x', ')', ')', ',', '2', ')', 'for', 'x', 'in', 'l', ']', 'NEWLINE', 'DEDENT']\n"
          ],
          "name": "stdout"
        }
      ]
    },
    {
      "cell_type": "code",
      "metadata": {
        "id": "OoVLQ-MKdnlc"
      },
      "source": [
        "file1 = open(\"/content/gdrive/MyDrive/data/python3.py\",\"w\") \n",
        "#L = [\"This is Delhi \\n\",\"This is Paris \\n\",\"This is London \\n\"]  \n",
        "  \n",
        "# \\n is placed to indicate EOL (End of Line) \n",
        "#file1.write(\"Hello \\n\") \n",
        "file1.writelines(format_python_program(translation[:-1])) \n",
        "file1.close() #to change file access modes \n",
        "  \n",
        "file1 = open(\"/content/gdrive/MyDrive/data/python2.py\",\"r+\")  \n",
        "  \n",
        "print (\"Output of Read function is \")\n",
        "print (file1.read()) \n",
        "print()"
      ],
      "execution_count": null,
      "outputs": []
    },
    {
      "cell_type": "code",
      "metadata": {
        "colab": {
          "base_uri": "https://localhost:8080/"
        },
        "id": "SCpbuTUcde23",
        "outputId": "7932095a-b8c3-4f8d-d574-a738d8b356e0"
      },
      "source": [
        "translation, attention = translate_sentence(src, SRC, TRG, model, device)\n",
        "\n",
        "print(f'predicted trg = {translation}')"
      ],
      "execution_count": null,
      "outputs": [
        {
          "output_type": "stream",
          "text": [
            "predicted trg = ['def', 'sigmoid_activation', '(', 'l', ')', ':', 'NEWLINE', 'INDENT', 'return', '[', 'round', '(', '1', '/', '(', '1', '+', 'math', '.', 'exp', '(', '-', 'x', ')', ')', ',', '2', ')', 'for', 'x', 'in', 'l', ']', 'NEWLINE', 'DEDENT', '<eos>']\n"
          ],
          "name": "stdout"
        }
      ]
    },
    {
      "cell_type": "code",
      "metadata": {
        "colab": {
          "base_uri": "https://localhost:8080/"
        },
        "id": "8vU7beGXdjL-",
        "outputId": "78b4b41b-410b-43bb-d362-c5586598879a"
      },
      "source": [
        "#format_to_python_code\n",
        "\n",
        "file1 = open(\"/content/gdrive/MyDrive/data/python3.py\",\"w\") \n",
        "#L = [\"This is Delhi \\n\",\"This is Paris \\n\",\"This is London \\n\"]  \n",
        "  \n",
        "# \\n is placed to indicate EOL (End of Line) \n",
        "#file1.write(\"Hello \\n\") \n",
        "file1.writelines(format_to_python_code(translation[:-1])) \n",
        "file1.close() #to change file access modes \n",
        "  \n",
        "file1 = open(\"/content/gdrive/MyDrive/data/python3.py\",\"r+\")  \n",
        "  \n",
        "print (\"Output of Read function is \")\n",
        "print (file1.read()) \n",
        "print()"
      ],
      "execution_count": null,
      "outputs": [
        {
          "output_type": "stream",
          "text": [
            "Output of Read function is \n",
            "def sigmoid_activation ( l ) :\n",
            "    return [ round ( 1 / ( 1 + math . exp ( - x ) ) , 2 ) for x in l ]\n",
            "\n",
            "\n"
          ],
          "name": "stdout"
        }
      ]
    },
    {
      "cell_type": "markdown",
      "metadata": {
        "id": "c0NynLajmX_X"
      },
      "source": [
        "### Conver to python utility which  uses the index of the data set predicts the model output,format to python code and saves it to .py file"
      ]
    },
    {
      "cell_type": "code",
      "metadata": {
        "id": "zMN-Cw1newkZ"
      },
      "source": [
        "def convert_to_python(example_idx):\n",
        "  src = vars(train_dataset.examples[example_idx])['English']\n",
        "  trg = vars(train_dataset.examples[example_idx])['Python']\n",
        "\n",
        "  print(f'src = {src}')\n",
        "  print(f'trg = {trg}')\n",
        "  translation, attention = translate_sentence(src, SRC, TRG, model, device)\n",
        "\n",
        "  print(f'predicted trg = {translation}')\n",
        "  filename=\"/content/gdrive/MyDrive/data/\" + \"python\" + str(example_idx) +\".py\"\n",
        "  print(filename)\n",
        "  file1 = open(filename,\"w\") \n",
        "  #L = [\"This is Delhi \\n\",\"This is Paris \\n\",\"This is London \\n\"]  \n",
        "  \n",
        "  # \\n is placed to indicate EOL (End of Line) \n",
        "  #file1.write(\"Hello \\n\") \n",
        "  file1.writelines(format_to_python_code(translation[:-1])) \n",
        "  file1.close() #to change file access modes \n",
        "  \n",
        "  file1 = open(filename,\"r+\")  \n",
        "  \n",
        "  print (\"Output of Read function is \\n \")\n",
        "  print(\"==================================================\")\n",
        "  print (file1.read()) \n",
        "  print()\n",
        "\n"
      ],
      "execution_count": null,
      "outputs": []
    },
    {
      "cell_type": "markdown",
      "metadata": {
        "id": "EcNyefIlmTvM"
      },
      "source": [
        "#### Sample Output generated out of Convert to python code"
      ]
    },
    {
      "cell_type": "code",
      "metadata": {
        "colab": {
          "base_uri": "https://localhost:8080/"
        },
        "id": "iKcTDV_tgGS1",
        "outputId": "0cf742ae-776e-4a93-a069-35ff563f89bb"
      },
      "source": [
        "convert_to_python(4)"
      ],
      "execution_count": null,
      "outputs": [
        {
          "output_type": "stream",
          "text": [
            "src = ['write', 'a', 'python', 'program', 'which', 'takes', 'user', 'input', 'tuple', 'and', 'prints', 'length', 'of', 'each', 'tuple', 'element']\n",
            "trg = ['userInput', '=', 'input', '(', '\"Enter a tuple:\"', ')', 'NEWLINE', 'x', '=', 'map', '(', 'lambda', 'x', ':', 'len', '(', 'x', ')', ',', 'tuple', '(', 'x', '.', 'strip', '(', ')', 'for', 'x', 'in', 'userInput', '.', 'split', '(', \"','\", ')', ')', ')', 'NEWLINE', 'print', '(', 'list', '(', 'x', ')', ')', 'NEWLINE']\n",
            "predicted trg = ['userInput', '=', 'input', '(', '\"Enter a tuple:\"', ')', 'NEWLINE', 'x', '=', 'map', '(', 'lambda', 'x', ':', 'len', '(', 'x', ')', ',', 'tuple', '(', 'x', '.', 'strip', '(', ')', 'for', 'x', 'in', 'userInput', '.', 'split', '(', \"','\", ')', ')', ')', 'NEWLINE', 'print', '(', 'list', '(', 'x', ')', ')', 'NEWLINE', '<eos>']\n",
            "/content/gdrive/MyDrive/data/python4.py\n",
            "Output of Read function is \n",
            " \n",
            "==================================================\n",
            "userInput = input ( \"Enter a tuple:\" )\n",
            "x = map ( lambda x : len ( x ) , tuple ( x . strip ( ) for x in userInput . split ( ',' ) ) )\n",
            "print ( list ( x ) )\n",
            "\n",
            "\n"
          ],
          "name": "stdout"
        }
      ]
    },
    {
      "cell_type": "code",
      "metadata": {
        "colab": {
          "base_uri": "https://localhost:8080/"
        },
        "id": "LlwXgcUihGMR",
        "outputId": "9bf98e53-46be-457d-c37d-a87fc63b9e6f"
      },
      "source": [
        "convert_to_python(6)"
      ],
      "execution_count": null,
      "outputs": [
        {
          "output_type": "stream",
          "text": [
            "src = ['write', 'a', 'python', 'function', 'that', 'takes', 'in', 'two', 'numbers', 'and', 'returns', 'their', 'hcf']\n",
            "trg = ['def', 'hcf', '(', 'num1', ',', 'num2', ')', ':', 'NEWLINE', 'INDENT', 'smaller', '=', 'num1', 'if', 'num1', '<', 'num2', 'else', 'num2', 'NEWLINE', 'for', 'i', 'in', 'range', '(', '1', ',', 'smaller', '+', '1', ')', ':', 'NEWLINE', 'INDENT', 'if', '(', 'num1', '%', 'i', '==', '0', ')', 'and', '(', 'num2', '%', 'i', '==', '0', ')', ':', 'NEWLINE', 'INDENT', 'hcf', '=', 'i', 'NEWLINE', 'DEDENT', 'DEDENT', 'return', 'hcf', 'NEWLINE', 'DEDENT']\n",
            "predicted trg = ['def', 'hcf', '(', 'num1', ',', 'num2', ')', ':', 'NEWLINE', 'INDENT', 'smaller', '=', 'num1', 'if', 'num1', '<', 'num2', 'else', 'num2', 'NEWLINE', 'for', 'i', 'in', 'range', '(', '1', ',', 'smaller', '+', '1', ')', ':', 'NEWLINE', 'INDENT', 'if', '(', 'num1', '%', 'i', '==', '0', ')', 'and', '(', 'num2', '%', 'i', '==', '0', ')']\n",
            "/content/gdrive/MyDrive/data/python6.py\n",
            "Output of Read function is \n",
            "def hcf ( num1 , num2 ) :\n",
            "  smaller = num1 if num1 < num2 else num2\n",
            "for i in range ( 1 , smaller + 1 ) :\n",
            "  if ( num1 % i == 0 ) and ( num2 % i ==0\n",
            "\n"
          ],
          "name": "stdout"
        }
      ]
    },
    {
      "cell_type": "code",
      "metadata": {
        "colab": {
          "base_uri": "https://localhost:8080/"
        },
        "id": "LlSRnP74hjzQ",
        "outputId": "8334524f-7cf0-4272-9a99-b7261149b3f8"
      },
      "source": [
        "convert_to_python(7)"
      ],
      "execution_count": null,
      "outputs": [
        {
          "output_type": "stream",
          "text": [
            "src = ['define', 'a', 'class', 'named', 'american', 'and', 'its', 'subclass', 'newyorker']\n",
            "trg = ['class', 'American', '(', 'object', ')', ':', 'NEWLINE', 'INDENT', 'pass', 'NEWLINE', 'DEDENT', 'class', 'NewYorker', '(', 'American', ')', ':', 'NEWLINE', 'INDENT', 'pass', 'NEWLINE', 'DEDENT']\n",
            "predicted trg = ['class', 'American', '(', 'object', ')', ':', 'NEWLINE', 'INDENT', 'pass', 'NEWLINE', 'DEDENT', 'class', 'NewYorker', '(', 'American', ')', ':', 'NEWLINE', 'INDENT', 'pass', 'NEWLINE', 'DEDENT', '<eos>']\n",
            "/content/gdrive/MyDrive/data/python7.py\n",
            "Output of Read function is \n",
            "class American ( object ) :\n",
            "  pass\n",
            " class NewYorker ( American ) :\n",
            "  pass\n",
            "\n",
            "\n"
          ],
          "name": "stdout"
        }
      ]
    },
    {
      "cell_type": "code",
      "metadata": {
        "colab": {
          "base_uri": "https://localhost:8080/"
        },
        "id": "yxU2CjDkh0Gs",
        "outputId": "70fa9ca7-afc1-49d4-a9a8-6d2288ae20c4"
      },
      "source": [
        "convert_to_python(8)"
      ],
      "execution_count": null,
      "outputs": [
        {
          "output_type": "stream",
          "text": [
            "src = ['write', 'a', 'function', 'to', 'calculate', 'the', 'compound', 'interest', 'for', 'principal', 'p', 'rate', 'r', 'and', 'time', 'in', 'years', 'y']\n",
            "trg = ['def', 'get_ci', '(', 'p', ':', 'float', ',', 'r', ':', 'float', ',', 't', ':', 'float', ',', 'n', ':', 'float', ')', '->', 'float', ':', 'NEWLINE', 'INDENT', 'return', 'round', '(', 'p', '*', '(', '(', '1', '+', '(', 'r', '/', '(', 'n', '*', '100', ')', ')', ')', '**', '(', 'n', '*', 't', ')', ')', '-', 'p', ',', '2', ')', 'NEWLINE', 'DEDENT']\n",
            "predicted trg = ['def', 'get_ci', '(', 'p', ':', 'float', ',', 'r', ':', 'float', ',', 't', ':', 'float', ',', 'n', ':', 'float', ')', '->', 'float', ':', 'NEWLINE', 'INDENT', 'return', 'round', '(', 'p', '*', '(', '(', '1', '+', '(', 'r', '/', '(', 'n', '*', '100', ')', ')', ')', '**', '(', 'n', '*', 't', ')', '-']\n",
            "/content/gdrive/MyDrive/data/python8.py\n",
            "Output of Read function is \n",
            "def get_ci ( p : float , r : float , t : float , n : float ) -> float :\n",
            "    return round ( p * ( ( 1 + ( r / ( n * 100 ) ) ) ** ( n * t)\n",
            "\n"
          ],
          "name": "stdout"
        }
      ]
    },
    {
      "cell_type": "code",
      "metadata": {
        "colab": {
          "base_uri": "https://localhost:8080/"
        },
        "id": "j-wNRDpxh4PB",
        "outputId": "056a5942-e6d5-48f6-910a-698e638038c4"
      },
      "source": [
        "convert_to_python(9)"
      ],
      "execution_count": null,
      "outputs": [
        {
          "output_type": "stream",
          "text": [
            "src = ['write', 'a', 'python', 'function', 'to', 'find', 'rightmost', 'value', 'less', 'than', 'or', 'equal', 'to', 'x']\n",
            "trg = ['def', 'find_le', '(', 'a', ',', 'x', ')', ':', 'NEWLINE', 'INDENT', 'from', 'bisect', 'import', 'bisect_right', 'NEWLINE', 'i', '=', 'bisect_right', '(', 'a', ',', 'x', ')', 'NEWLINE', 'if', 'i', ':', 'NEWLINE', 'INDENT', 'return', 'a', '[', 'i', '-', '1', ']', 'NEWLINE', 'DEDENT', 'raise', 'ValueError', 'NEWLINE', 'DEDENT']\n",
            "predicted trg = ['def', 'find_le', '(', 'a', ',', 'x', ')', ':', 'NEWLINE', 'INDENT', 'from', 'bisect', 'import', 'bisect_right', 'NEWLINE', 'i', '=', 'bisect_right', '(', 'a', ',', 'x', ')', 'NEWLINE', 'if', 'i', ':', 'NEWLINE', 'INDENT', 'return', 'a', '[', 'i', '-', '1', ']', 'NEWLINE', 'DEDENT', 'raise', 'ValueError', 'NEWLINE', 'DEDENT', '<eos>']\n",
            "/content/gdrive/MyDrive/data/python9.py\n",
            "Output of Read function is \n",
            "def find_le ( a , x ) :\n",
            "  from bisect import bisect_right\n",
            "i = bisect_right ( a , x )\n",
            "if i :\n",
            "    return a [ i - 1 ]\n",
            " raise ValueError\n",
            "\n",
            "\n"
          ],
          "name": "stdout"
        }
      ]
    },
    {
      "cell_type": "code",
      "metadata": {
        "colab": {
          "base_uri": "https://localhost:8080/"
        },
        "id": "CpGa5QIoiBZC",
        "outputId": "fc65a581-ef91-4b08-b586-bbc533e39a11"
      },
      "source": [
        "convert_to_python(10)"
      ],
      "execution_count": null,
      "outputs": [
        {
          "output_type": "stream",
          "text": [
            "src = ['write', 'a', 'function', 'to', 'calculate', 'the', 'volume', 'v', 'of', 'ideal', 'gas', 'based', 'on', 'ideal', 'gas', 'equation', 'pressure', 'p', 'and', 'tempreature', 't', 'given']\n",
            "trg = ['def', 'find_volume_of_ideal_gas', '(', 'pressure', ':', 'float', ',', 'temp', ':', 'float', ',', 'n', ':', 'float', ')', '->', 'float', ':', 'NEWLINE', 'INDENT', 'r', '=', '8.3145', 'NEWLINE', 'return', '(', 'n', '*', 'r', '*', 'temp', ')', '/', 'pressure', 'NEWLINE', 'DEDENT']\n",
            "predicted trg = ['def', 'find_volume_of_ideal_gas', '(', 'pressure', ':', 'float', ',', 'temp', ':', 'float', ',', 'n', ':', 'float', ')', '->', 'float', ':', 'NEWLINE', 'INDENT', 'r', '=', '8.3145', 'NEWLINE', 'return', '(', 'n', '*', 'r', '*', 'temp', ')', '/', 'pressure', 'NEWLINE', 'DEDENT', '<eos>']\n",
            "/content/gdrive/MyDrive/data/python10.py\n",
            "Output of Read function is \n",
            "def find_volume_of_ideal_gas ( pressure : float , temp : float , n : float ) -> float :\n",
            "  r = 8.3145\n",
            "  return ( n * r * temp ) / pressure\n",
            "\n",
            "\n"
          ],
          "name": "stdout"
        }
      ]
    },
    {
      "cell_type": "markdown",
      "metadata": {
        "id": "ybcXb3UJm27w"
      },
      "source": [
        "#### **Generate python code for first 50 elements of the dataset**"
      ]
    },
    {
      "cell_type": "code",
      "metadata": {
        "colab": {
          "base_uri": "https://localhost:8080/"
        },
        "id": "Eu1KBIWkj5jH",
        "outputId": "33987181-efd5-4f82-b3ef-059e0369b651"
      },
      "source": [
        "for i in range(50):\n",
        "  convert_to_python(i)"
      ],
      "execution_count": null,
      "outputs": [
        {
          "output_type": "stream",
          "text": [
            "src = ['define', 'a', 'function', 'that', 'can', 'accept', 'an', 'integer', 'number', 'as', 'input', 'and', 'print', 'the', 'it', 'is', 'an', 'even', 'number', 'if', 'the', 'number', 'is', 'even', 'otherwise', 'print', 'it', 'is', 'an', 'odd', 'number']\n",
            "trg = ['def', 'even_or_odd_num', '(', 'n', ')', ':', 'NEWLINE', 'INDENT', 'if', 'n', '%', '2', '==', '0', ':', 'NEWLINE', 'INDENT', 'print', '(', '\"It is an even number\"', ')', 'NEWLINE', 'DEDENT', 'else', ':', 'NEWLINE', 'INDENT', 'print', '(', '\"It is an odd number\"', ')', 'NEWLINE', 'DEDENT', 'DEDENT']\n",
            "predicted trg = ['def', 'even_or_odd_num', '(', 'n', ')', ':', 'NEWLINE', 'INDENT', 'if', 'n', '%', '2', '==', '0', ':', 'NEWLINE', 'INDENT', 'print', '(', '\"It is an even number\"', ')', 'NEWLINE', 'DEDENT', 'else', ':', 'NEWLINE', 'INDENT', 'print', '(', '\"It is an odd number\"', ')', 'NEWLINE', 'DEDENT', 'DEDENT', '<eos>']\n",
            "/content/gdrive/MyDrive/data/python0.py\n",
            "Output of Read function is \n",
            " \n",
            "==================================================\n",
            "def even_or_odd_num ( n ) :\n",
            "  if n % 2 == 0 :\n",
            "  print ( \"It is an even number\" )\n",
            " else :\n",
            "  print ( \"It is an odd number\" )\n",
            "\n",
            "\n",
            "src = ['write', 'a', 'program', 'to', 'print', 'a', 'given', 'string', 'replacing', 'all', 'the', 'vowels', 'with']\n",
            "trg = ['st', '=', '\"Where is this going? Could you please help me understand!\"', 'NEWLINE', 'vowels', '=', '\"AEIOUaeiou\"', 'NEWLINE', 'for', 'v', 'in', 'vowels', ':', 'NEWLINE', 'INDENT', 'st', '=', 'st', '.', 'replace', '(', 'v', ',', \"'_'\", ')', 'NEWLINE', 'DEDENT', 'print', '(', 'st', ')', 'NEWLINE']\n",
            "predicted trg = ['st', '=', '\"Where is this going? Could you please help me understand!\"', 'NEWLINE', 'vowels', '=', '\"AEIOUaeiou\"', 'NEWLINE', 'for', 'v', 'in', 'vowels', ':', 'NEWLINE', 'INDENT', 'st', '=', 'st', '.', 'replace', '(', 'v', ',', \"'_'\", ')', 'NEWLINE', 'DEDENT', 'print', '(', 'st', ')', 'NEWLINE', '<eos>']\n",
            "/content/gdrive/MyDrive/data/python1.py\n",
            "Output of Read function is \n",
            " \n",
            "==================================================\n",
            "st = \"Where is this going? Could you please help me understand!\"\n",
            "vowels = \"AEIOUaeiou\"\n",
            "for v in vowels :\n",
            "  st = st . replace ( v , '_' )\n",
            " print ( st )\n",
            "\n",
            "\n",
            "src = ['write', 'a', 'python', 'to', 'dict', 'to', 'zip', 'and', 'print', 'as', 'dictionary', 'elements', 'in', 'original', 'form']\n",
            "trg = ['a', '=', '{', '\"a\"', ':', '1', ',', '\"b\"', ':', '2', ',', '\"c\"', ':', '3', '}', 'NEWLINE', 'b', '=', 'dict', '(', 'zip', '(', 'a', '.', 'values', '(', ')', ',', 'a', '.', 'keys', '(', ')', ')', ')', 'NEWLINE', 'print', '(', 'b', ')', 'NEWLINE']\n",
            "predicted trg = ['a', '=', '{', '\"a\"', ':', '1', ',', '\"b\"', ':', '2', ',', '\"c\"', ':', '3', '}', 'NEWLINE', 'b', '=', 'dict', '(', 'zip', '(', 'a', '.', 'values', '(', ')', ',', 'a', '.', 'keys', '(', ')', ')', ')', 'NEWLINE', 'print', '(', 'b', ')', 'NEWLINE', '<eos>']\n",
            "/content/gdrive/MyDrive/data/python2.py\n",
            "Output of Read function is \n",
            " \n",
            "==================================================\n",
            "a = { \"a\" : 1 , \"b\" : 2 , \"c\" : 3 }\n",
            "b = dict ( zip ( a . values ( ) , a . keys ( ) ) )\n",
            "print ( b )\n",
            "\n",
            "\n",
            "src = ['python', 'sigmoid', 'function']\n",
            "trg = ['def', 'sigmoid_activation', '(', 'l', ')', ':', 'NEWLINE', 'INDENT', 'return', '[', 'round', '(', '1', '/', '(', '1', '+', 'math', '.', 'exp', '(', '-', 'x', ')', ')', ',', '2', ')', 'for', 'x', 'in', 'l', ']', 'NEWLINE', 'DEDENT']\n",
            "predicted trg = ['def', 'sigmoid_activation', '(', 'l', ')', ':', 'NEWLINE', 'INDENT', 'return', '[', 'round', '(', '1', '/', '(', '1', '+', 'math', '.', 'exp', '(', '-', 'x', ')', ')', ',', '2', ')', 'for', 'x', 'in', 'l', ']', 'NEWLINE', 'DEDENT', '<eos>']\n",
            "/content/gdrive/MyDrive/data/python3.py\n",
            "Output of Read function is \n",
            " \n",
            "==================================================\n",
            "def sigmoid_activation ( l ) :\n",
            "    return [ round ( 1 / ( 1 + math . exp ( - x ) ) , 2 ) for x in l ]\n",
            "\n",
            "\n",
            "src = ['write', 'a', 'python', 'program', 'which', 'takes', 'user', 'input', 'tuple', 'and', 'prints', 'length', 'of', 'each', 'tuple', 'element']\n",
            "trg = ['userInput', '=', 'input', '(', '\"Enter a tuple:\"', ')', 'NEWLINE', 'x', '=', 'map', '(', 'lambda', 'x', ':', 'len', '(', 'x', ')', ',', 'tuple', '(', 'x', '.', 'strip', '(', ')', 'for', 'x', 'in', 'userInput', '.', 'split', '(', \"','\", ')', ')', ')', 'NEWLINE', 'print', '(', 'list', '(', 'x', ')', ')', 'NEWLINE']\n",
            "predicted trg = ['userInput', '=', 'input', '(', '\"Enter a tuple:\"', ')', 'NEWLINE', 'x', '=', 'map', '(', 'lambda', 'x', ':', 'len', '(', 'x', ')', ',', 'tuple', '(', 'x', '.', 'strip', '(', ')', 'for', 'x', 'in', 'userInput', '.', 'split', '(', \"','\", ')', ')', ')', 'NEWLINE', 'print', '(', 'list', '(', 'x', ')', ')', 'NEWLINE', '<eos>']\n",
            "/content/gdrive/MyDrive/data/python4.py\n",
            "Output of Read function is \n",
            " \n",
            "==================================================\n",
            "userInput = input ( \"Enter a tuple:\" )\n",
            "x = map ( lambda x : len ( x ) , tuple ( x . strip ( ) for x in userInput . split ( ',' ) ) )\n",
            "print ( list ( x ) )\n",
            "\n",
            "\n",
            "src = ['class', 'to', 'show', 'implementation', 'of', 'static', 'method']\n",
            "trg = ['class', 'Mathematics', ':', 'NEWLINE', 'INDENT', 'def', '__init__', '(', 'self', ',', 'msg', '=', '\"Demo class of Mathematics\"', ')', ':', 'NEWLINE', 'INDENT', 'self', '.', 'msg', '=', 'msg', 'NEWLINE', 'DEDENT', 'def', '__str__', '(', 'self', ')', ':', 'NEWLINE', 'INDENT', 'return', \"f' String representation of an object'\", 'NEWLINE', 'DEDENT', 'def', '__repr__', '(', 'self', ')', ':', 'NEWLINE', 'INDENT', 'return', \"f' repr representation of an object with parameter {self.msg}'\", 'NEWLINE', 'DEDENT', '@', 'staticmethod', 'NEWLINE', 'def', 'addition', '(', 'a', ':', '\"Variable1\"', ',', 'b', ':', \"'Variable2'\", ')', ':', 'NEWLINE', 'INDENT', 'return', 'a', '+', 'b', 'NEWLINE', 'DEDENT', 'DEDENT']\n",
            "predicted trg = ['class', 'Mathematics', ':', 'NEWLINE', 'INDENT', 'def', '__init__', '(', 'self', ',', 'msg', '=', '\"Demo class of Mathematics\"', ')', ':', 'NEWLINE', 'INDENT', 'self', '.', 'msg', '=', 'msg', 'NEWLINE', 'DEDENT', 'def', '__str__', '(', 'self', ')', ':', 'NEWLINE', 'INDENT', 'return', \"f' String representation of an object'\", 'NEWLINE', 'DEDENT', 'def', '__repr__', '(', 'self', ')', ':', 'NEWLINE', 'INDENT', 'return', \"f' repr representation of an object with parameter {self.msg}'\", 'NEWLINE', 'DEDENT', '@', 'staticmethod']\n",
            "/content/gdrive/MyDrive/data/python5.py\n",
            "Output of Read function is \n",
            " \n",
            "==================================================\n",
            "class Mathematics :\n",
            "  def __init__ ( self , msg = \"Demo class of Mathematics\" ) :\n",
            "  self . msg = msg\n",
            " def __str__ ( self ) :\n",
            "    return f' String representation of an object'\n",
            " def __repr__ ( self ) :\n",
            "    return f' repr representation of an object with parameter {self.msg}'\n",
            "@\n",
            "\n",
            "src = ['write', 'a', 'python', 'function', 'that', 'takes', 'in', 'two', 'numbers', 'and', 'returns', 'their', 'hcf']\n",
            "trg = ['def', 'hcf', '(', 'num1', ',', 'num2', ')', ':', 'NEWLINE', 'INDENT', 'smaller', '=', 'num1', 'if', 'num1', '<', 'num2', 'else', 'num2', 'NEWLINE', 'for', 'i', 'in', 'range', '(', '1', ',', 'smaller', '+', '1', ')', ':', 'NEWLINE', 'INDENT', 'if', '(', 'num1', '%', 'i', '==', '0', ')', 'and', '(', 'num2', '%', 'i', '==', '0', ')', ':', 'NEWLINE', 'INDENT', 'hcf', '=', 'i', 'NEWLINE', 'DEDENT', 'DEDENT', 'return', 'hcf', 'NEWLINE', 'DEDENT']\n",
            "predicted trg = ['def', 'hcf', '(', 'num1', ',', 'num2', ')', ':', 'NEWLINE', 'INDENT', 'smaller', '=', 'num1', 'if', 'num1', '<', 'num2', 'else', 'num2', 'NEWLINE', 'for', 'i', 'in', 'range', '(', '1', ',', 'smaller', '+', '1', ')', ':', 'NEWLINE', 'INDENT', 'if', '(', 'num1', '%', 'i', '==', '0', ')', 'and', '(', 'num2', '%', 'i', '==', '0', ')']\n",
            "/content/gdrive/MyDrive/data/python6.py\n",
            "Output of Read function is \n",
            " \n",
            "==================================================\n",
            "def hcf ( num1 , num2 ) :\n",
            "  smaller = num1 if num1 < num2 else num2\n",
            "for i in range ( 1 , smaller + 1 ) :\n",
            "  if ( num1 % i == 0 ) and ( num2 % i ==0\n",
            "\n",
            "src = ['define', 'a', 'class', 'named', 'american', 'and', 'its', 'subclass', 'newyorker']\n",
            "trg = ['class', 'American', '(', 'object', ')', ':', 'NEWLINE', 'INDENT', 'pass', 'NEWLINE', 'DEDENT', 'class', 'NewYorker', '(', 'American', ')', ':', 'NEWLINE', 'INDENT', 'pass', 'NEWLINE', 'DEDENT']\n",
            "predicted trg = ['class', 'American', '(', 'object', ')', ':', 'NEWLINE', 'INDENT', 'pass', 'NEWLINE', 'DEDENT', 'class', 'NewYorker', '(', 'American', ')', ':', 'NEWLINE', 'INDENT', 'pass', 'NEWLINE', 'DEDENT', '<eos>']\n",
            "/content/gdrive/MyDrive/data/python7.py\n",
            "Output of Read function is \n",
            " \n",
            "==================================================\n",
            "class American ( object ) :\n",
            "  pass\n",
            " class NewYorker ( American ) :\n",
            "  pass\n",
            "\n",
            "\n",
            "src = ['write', 'a', 'function', 'to', 'calculate', 'the', 'compound', 'interest', 'for', 'principal', 'p', 'rate', 'r', 'and', 'time', 'in', 'years', 'y']\n",
            "trg = ['def', 'get_ci', '(', 'p', ':', 'float', ',', 'r', ':', 'float', ',', 't', ':', 'float', ',', 'n', ':', 'float', ')', '->', 'float', ':', 'NEWLINE', 'INDENT', 'return', 'round', '(', 'p', '*', '(', '(', '1', '+', '(', 'r', '/', '(', 'n', '*', '100', ')', ')', ')', '**', '(', 'n', '*', 't', ')', ')', '-', 'p', ',', '2', ')', 'NEWLINE', 'DEDENT']\n",
            "predicted trg = ['def', 'get_ci', '(', 'p', ':', 'float', ',', 'r', ':', 'float', ',', 't', ':', 'float', ',', 'n', ':', 'float', ')', '->', 'float', ':', 'NEWLINE', 'INDENT', 'return', 'round', '(', 'p', '*', '(', '(', '1', '+', '(', 'r', '/', '(', 'n', '*', '100', ')', ')', ')', '**', '(', 'n', '*', 't', ')', '-']\n",
            "/content/gdrive/MyDrive/data/python8.py\n",
            "Output of Read function is \n",
            " \n",
            "==================================================\n",
            "def get_ci ( p : float , r : float , t : float , n : float ) -> float :\n",
            "    return round ( p * ( ( 1 + ( r / ( n * 100 ) ) ) ** ( n * t)\n",
            "\n",
            "src = ['write', 'a', 'python', 'function', 'to', 'find', 'rightmost', 'value', 'less', 'than', 'or', 'equal', 'to', 'x']\n",
            "trg = ['def', 'find_le', '(', 'a', ',', 'x', ')', ':', 'NEWLINE', 'INDENT', 'from', 'bisect', 'import', 'bisect_right', 'NEWLINE', 'i', '=', 'bisect_right', '(', 'a', ',', 'x', ')', 'NEWLINE', 'if', 'i', ':', 'NEWLINE', 'INDENT', 'return', 'a', '[', 'i', '-', '1', ']', 'NEWLINE', 'DEDENT', 'raise', 'ValueError', 'NEWLINE', 'DEDENT']\n",
            "predicted trg = ['def', 'find_le', '(', 'a', ',', 'x', ')', ':', 'NEWLINE', 'INDENT', 'from', 'bisect', 'import', 'bisect_right', 'NEWLINE', 'i', '=', 'bisect_right', '(', 'a', ',', 'x', ')', 'NEWLINE', 'if', 'i', ':', 'NEWLINE', 'INDENT', 'return', 'a', '[', 'i', '-', '1', ']', 'NEWLINE', 'DEDENT', 'raise', 'ValueError', 'NEWLINE', 'DEDENT', '<eos>']\n",
            "/content/gdrive/MyDrive/data/python9.py\n",
            "Output of Read function is \n",
            " \n",
            "==================================================\n",
            "def find_le ( a , x ) :\n",
            "  from bisect import bisect_right\n",
            "i = bisect_right ( a , x )\n",
            "if i :\n",
            "    return a [ i - 1 ]\n",
            " raise ValueError\n",
            "\n",
            "\n",
            "src = ['write', 'a', 'function', 'to', 'calculate', 'the', 'volume', 'v', 'of', 'ideal', 'gas', 'based', 'on', 'ideal', 'gas', 'equation', 'pressure', 'p', 'and', 'tempreature', 't', 'given']\n",
            "trg = ['def', 'find_volume_of_ideal_gas', '(', 'pressure', ':', 'float', ',', 'temp', ':', 'float', ',', 'n', ':', 'float', ')', '->', 'float', ':', 'NEWLINE', 'INDENT', 'r', '=', '8.3145', 'NEWLINE', 'return', '(', 'n', '*', 'r', '*', 'temp', ')', '/', 'pressure', 'NEWLINE', 'DEDENT']\n",
            "predicted trg = ['def', 'find_volume_of_ideal_gas', '(', 'pressure', ':', 'float', ',', 'temp', ':', 'float', ',', 'n', ':', 'float', ')', '->', 'float', ':', 'NEWLINE', 'INDENT', 'r', '=', '8.3145', 'NEWLINE', 'return', '(', 'n', '*', 'r', '*', 'temp', ')', '/', 'pressure', 'NEWLINE', 'DEDENT', '<eos>']\n",
            "/content/gdrive/MyDrive/data/python10.py\n",
            "Output of Read function is \n",
            " \n",
            "==================================================\n",
            "def find_volume_of_ideal_gas ( pressure : float , temp : float , n : float ) -> float :\n",
            "  r = 8.3145\n",
            "  return ( n * r * temp ) / pressure\n",
            "\n",
            "\n",
            "src = ['write', 'a', 'python', 'program', 'to', 'demonstrate', 'working', 'of', 'words', 'frequency', 'in', 'string', 'shorthands']\n",
            "trg = ['test_str', '=', \"'Gfg is best . Geeks are good and Geeks like Gfg'\", 'NEWLINE', 'print', '(', '\"The original string is : \"', '+', 'str', '(', 'test_str', ')', ')', 'NEWLINE', 'res', '=', '{', 'key', ':', 'test_str', '.', 'count', '(', 'key', ')', 'for', 'key', 'in', 'test_str', '.', 'split', '(', ')', '}', 'NEWLINE', 'print', '(', '\"The words frequency : \"', '+', 'str', '(', 'res', ')', ')', 'NEWLINE']\n",
            "predicted trg = ['test_str', '=', \"'Gfg is best . Geeks are good and Geeks like Gfg'\", 'NEWLINE', 'print', '(', '\"The original string is : \"', '+', 'str', '(', 'test_str', ')', ')', 'NEWLINE', 'res', '=', '{', 'key', ':', 'test_str', '.', 'count', '(', 'key', ')', 'for', 'key', 'in', 'test_str', '.', 'split', '(', ')', '}', 'NEWLINE', 'print', '(', '\"The words frequency : \"', '+', 'str', '(', 'res', ')', ')', 'NEWLINE', '<eos>']\n",
            "/content/gdrive/MyDrive/data/python11.py\n",
            "Output of Read function is \n",
            " \n",
            "==================================================\n",
            "test_str = 'Gfg is best . Geeks are good and Geeks like Gfg'\n",
            "print ( \"The original string is : \" + str ( test_str ) )\n",
            "res = { key : test_str . count ( key ) for key in test_str . split ( ) }\n",
            "print ( \"The words frequency : \" + str ( res ) )\n",
            "\n",
            "\n",
            "src = ['write', 'a', 'function', 'that', 'returns', 'tan', 'value', 'of', 'the', 'input']\n",
            "trg = ['def', 'tan', '(', 'x', ':', 'float', ')', '->', 'float', ':', 'NEWLINE', 'INDENT', 'import', 'math', 'NEWLINE', 'return', 'math', '.', 'tan', '(', 'x', ')', 'NEWLINE', 'DEDENT']\n",
            "predicted trg = ['def', 'tan', '(', 'x', ':', 'float', ')', '->', 'float', ':', 'NEWLINE', 'INDENT', 'import', 'math', 'NEWLINE', 'return', 'math', '.', 'tan', '(', 'x', ')', 'NEWLINE', 'DEDENT', '<eos>']\n",
            "/content/gdrive/MyDrive/data/python12.py\n",
            "Output of Read function is \n",
            " \n",
            "==================================================\n",
            "def tan ( x : float ) -> float :\n",
            "  import math\n",
            "  return math . tan ( x )\n",
            "\n",
            "\n",
            "src = ['calculate', 'memory', 'is', 'being', 'used', 'by', 'an', 'list', 'in', 'python']\n",
            "trg = ['import', 'sys', 'NEWLINE', 'list1', '=', '[', \"'Scott'\", ',', \"'Eric'\", ',', \"'Kelly'\", ',', \"'Emma'\", ',', \"'Smith'\", ']', 'NEWLINE', 'print', '(', '\"size of list = \"', ',', 'sys', '.', 'getsizeof', '(', 'list1', ')', ')', 'NEWLINE']\n",
            "predicted trg = ['import', 'sys', 'NEWLINE', 'list1', '=', '[', \"'Scott'\", ',', \"'Eric'\", ',', \"'Kelly'\", ',', \"'Emma'\", ',', \"'Smith'\", ']', 'NEWLINE', 'print', '(', '\"size of list = \"', ',', 'sys', '.', 'getsizeof', '(', 'list1', ')', ')', 'NEWLINE', '<eos>']\n",
            "/content/gdrive/MyDrive/data/python13.py\n",
            "Output of Read function is \n",
            " \n",
            "==================================================\n",
            "import sys\n",
            "list1 = [ 'Scott' , 'Eric' , 'Kelly' , 'Emma' , 'Smith' ]\n",
            "print ( \"size of list = \" , sys . getsizeof ( list1 ) )\n",
            "\n",
            "\n",
            "src = ['write', 'a', 'python', 'program', 'to', 'iterate', 'an', 'dict', 'and', 'concatenate']\n",
            "trg = ['D', '=', 'dict', '(', 'p', '=', \"'san'\", ',', 'q', '=', \"'foundry'\", ')', 'NEWLINE', 'print', '(', \"'{p}{q}'\", '.', 'format', '(', '**', 'D', ')', ')', 'NEWLINE']\n",
            "predicted trg = ['D', '=', 'dict', '(', 'p', '=', \"'san'\", ',', 'q', '=', \"'foundry'\", ')', 'NEWLINE', 'print', '(', \"'{p}{q}'\", '.', 'format', '(', '**', 'D', ')', ')', 'NEWLINE', '<eos>']\n",
            "/content/gdrive/MyDrive/data/python14.py\n",
            "Output of Read function is \n",
            " \n",
            "==================================================\n",
            "D = dict ( p = 'san' , q = 'foundry' )\n",
            "print ( '{p}{q}' . format ( ** D ) )\n",
            "\n",
            "\n",
            "src = ['write', 'a', 'function', 'to', 'calculate', 'the', 'gravitational', 'force', 'between', 'two', 'objects', 'of', 'mass', 'm1', 'and', 'm2', 'and', 'distance', 'of', 'r', 'between', 'them']\n",
            "trg = ['def', 'cal_gforce', '(', 'mass1', ':', 'float', ',', 'mass2', ':', 'float', ',', 'distance', ':', 'float', ')', '->', 'float', ':', 'NEWLINE', 'INDENT', 'g', '=', '6.674', '*', '(', '10', ')', '**', '(', '-', '11', ')', 'NEWLINE', 'return', '(', 'g', '*', 'mass1', '*', 'mass2', ')', '/', '(', 'distance', '**', '2', ')', 'NEWLINE', 'DEDENT']\n",
            "predicted trg = ['def', 'cal_gforce', '(', 'mass1', ':', 'float', ',', 'mass2', ':', 'float', ',', 'distance', ':', 'float', ')', '->', 'float', ':', 'NEWLINE', 'INDENT', 'g', '=', '6.674', '*', '(', '10', ')', '**', '(', '-', '11', ')', 'NEWLINE', 'return', '(', 'g', '*', 'mass1', '*', 'mass2', ')', '/', '(', 'distance', '**', '2', ')', 'NEWLINE', 'DEDENT', '<eos>']\n",
            "/content/gdrive/MyDrive/data/python15.py\n",
            "Output of Read function is \n",
            " \n",
            "==================================================\n",
            "def cal_gforce ( mass1 : float , mass2 : float , distance : float ) -> float :\n",
            "  g = 6.674 * ( 10 ) ** ( - 11 )\n",
            "  return ( g * mass1 * mass2 ) / ( distance ** 2 )\n",
            "\n",
            "\n",
            "src = ['generate', 'a', 'random', 'ndimensional', 'array', 'of', 'float', 'numbers']\n",
            "trg = ['import', 'numpy', 'NEWLINE', 'random_float_array', '=', 'numpy', '.', 'random', '.', 'rand', '(', '2', ',', '2', ')', 'NEWLINE', 'print', '(', '\"2 X 2 random float array in [0.0, 1.0] \\\\n\"', ',', 'random_float_array', ',', '\"\\\\n\"', ')', 'NEWLINE']\n",
            "predicted trg = ['import', 'numpy', 'NEWLINE', 'random_float_array', '=', 'numpy', '.', 'random', '.', 'rand', '(', '2', ',', '2', ')', 'NEWLINE', 'print', '(', '\"2 X 2 random float array in [0.0, 1.0] \\\\n\"', ',', 'random_float_array', ',', '\"\\\\n\"', ')', 'NEWLINE', '<eos>']\n",
            "/content/gdrive/MyDrive/data/python16.py\n",
            "Output of Read function is \n",
            " \n",
            "==================================================\n",
            "import numpy\n",
            "random_float_array = numpy . random . rand ( 2 , 2 )\n",
            "print ( \"2 X 2 random float array in [0.0, 1.0] \\n\" , random_float_array , \"\\n\" )\n",
            "\n",
            "\n",
            "src = ['write', 'a', 'python', 'program', 'to', 'multiply', 'three', 'numbers', 'and', 'print', 'the', 'result']\n",
            "trg = ['num1', '=', '2', 'NEWLINE', 'num2', '=', '4', 'NEWLINE', 'num3', '=', '6', 'NEWLINE', 'print', '(', 'num1', '*', 'num2', '*', 'num3', ')', 'NEWLINE']\n",
            "predicted trg = ['num1', '=', '2', 'NEWLINE', 'num2', '=', '4', 'NEWLINE', 'num3', '=', '6', 'NEWLINE', 'print', '(', 'num1', '*', 'num2', '*', 'num3', ')', 'NEWLINE', '<eos>']\n",
            "/content/gdrive/MyDrive/data/python17.py\n",
            "Output of Read function is \n",
            " \n",
            "==================================================\n",
            "num1 = 2\n",
            "num2 = 4\n",
            "num3 = 6\n",
            "print ( num1 * num2 * num3 )\n",
            "\n",
            "\n",
            "src = ['write', 'a', 'python', 'program', 'to', 'find', 'the', 'sum', 'and', 'average', 'of', 'the', 'list', 'print', 'the', 'sum', 'and', 'average']\n",
            "trg = ['L', '=', '[', '4', ',', '5', ',', '1', ',', '2', ',', '9', ',', '7', ',', '10', ',', '8', ']', 'NEWLINE', 'count', '=', '0', 'NEWLINE', 'for', 'i', 'in', 'L', ':', 'NEWLINE', 'INDENT', 'count', '+=', 'i', 'NEWLINE', 'DEDENT', 'avg', '=', 'count', '/', 'len', '(', 'L', ')', 'NEWLINE', 'print', '(', '\"sum = \"', ',', 'count', ')', 'NEWLINE', 'print', '(', '\"average = \"', ',', 'avg', ')', 'NEWLINE']\n",
            "predicted trg = ['L', '=', '[', '4', ',', '5', ',', '1', ',', '2', ',', '9', ',', '7', ',', '10', ',', '8', ']', 'NEWLINE', 'count', '=', '0', 'NEWLINE', 'for', 'i', 'in', 'L', ':', 'NEWLINE', 'INDENT', 'count', '+=', 'i', 'NEWLINE', 'DEDENT', 'avg', '=', 'count', '/', 'len', '(', 'L', ')', 'NEWLINE', 'print', '(', '\"sum = \"', ',', 'count']\n",
            "/content/gdrive/MyDrive/data/python18.py\n",
            "Output of Read function is \n",
            " \n",
            "==================================================\n",
            "L = [ 4 , 5 , 1 , 2 , 9 , 7 , 10 , 8 ]\n",
            "count = 0\n",
            "for i in L :\n",
            "  count += i\n",
            " avg = count / len ( L )\n",
            "print ( \"sum = \",\n",
            "\n",
            "src = ['write', 'a', 'python', 'function', 'to', 'capitalizes', 'the', 'first', 'letter', 'of', 'each', 'word', 'in', 'a', 'string']\n",
            "trg = ['def', 'capitalize', '(', 'text', ')', ':', 'NEWLINE', 'INDENT', 'return', 'text', '.', 'title', '(', ')', 'NEWLINE', 'DEDENT']\n",
            "predicted trg = ['def', 'capitalize', '(', 'text', ')', ':', 'NEWLINE', 'INDENT', 'return', 'text', '.', 'title', '(', ')', 'NEWLINE', 'DEDENT', '<eos>']\n",
            "/content/gdrive/MyDrive/data/python19.py\n",
            "Output of Read function is \n",
            " \n",
            "==================================================\n",
            "def capitalize ( text ) :\n",
            "    return text . title ( )\n",
            "\n",
            "\n",
            "src = ['7', 'add', 'a', 'value', 'to', 'the', 'start', 'of', 'a', 'list', 'python']\n",
            "trg = ['var', '=', '7', 'NEWLINE', 'array', '=', '[', '1', ',', '2', ',', '3', ',', '4', ',', '5', ',', '6', ']', 'NEWLINE', 'array', '.', 'insert', '(', '0', ',', 'var', ')', 'NEWLINE']\n",
            "predicted trg = ['var', '=', '7', 'NEWLINE', 'array', '=', '[', '1', ',', '2', ',', '3', ',', '4', ',', '5', ',', '6', ']', 'NEWLINE', 'array', '.', 'insert', '(', '0', ',', 'var', ')', 'NEWLINE', '<eos>']\n",
            "/content/gdrive/MyDrive/data/python20.py\n",
            "Output of Read function is \n",
            " \n",
            "==================================================\n",
            "var = 7\n",
            "array = [ 1 , 2 , 3 , 4 , 5 , 6 ]\n",
            "array . insert ( 0 , var )\n",
            "\n",
            "\n",
            "src = ['write', 'a', 'python', 'program', 'that', 'converts', 'a', 'hexadecimal', 'number', 'to', 'hexadecimal', 'and', 'prints', 'it']\n",
            "trg = ['hexadecimal_num', '=', \"'FF'\", 'NEWLINE', 'decimal_num', '=', 'int', '(', 'hexadecimal_num', ',', '16', ')', 'NEWLINE', 'print', '(', 'decimal_num', ')', 'NEWLINE']\n",
            "predicted trg = ['hexadecimal_num', '=', \"'FF'\", 'NEWLINE', 'decimal_num', '=', 'int', '(', 'hexadecimal_num', ',', '16', ')', 'NEWLINE', 'print', '(', 'decimal_num', ')', 'NEWLINE', '<eos>']\n",
            "/content/gdrive/MyDrive/data/python21.py\n",
            "Output of Read function is \n",
            " \n",
            "==================================================\n",
            "hexadecimal_num = 'FF'\n",
            "decimal_num = int ( hexadecimal_num , 16 )\n",
            "print ( decimal_num )\n",
            "\n",
            "\n",
            "src = ['write', 'a', 'python', 'function', 'to', 'converting', 'an', 'integer', 'to', 'a', 'string', 'in', 'any', 'base']\n",
            "trg = ['def', 'to_string', '(', 'n', ',', 'base', ')', ':', 'NEWLINE', 'INDENT', 'conver_tString', '=', '\"0123456789ABCDEF\"', 'NEWLINE', 'if', 'n', '<', 'base', ':', 'NEWLINE', 'INDENT', 'return', 'conver_tString', '[', 'n', ']', 'NEWLINE', 'DEDENT', 'else', ':', 'NEWLINE', 'INDENT', 'return', 'to_string', '(', 'n', '//', 'base', ',', 'base', ')', '+', 'conver_tString', '[', 'n', ']', '%', 'base', 'NEWLINE', 'DEDENT', 'DEDENT']\n",
            "predicted trg = ['def', 'to_string', '(', 'n', ',', 'base', ')', ':', 'NEWLINE', 'INDENT', 'conver_tString', '=', '\"0123456789ABCDEF\"', 'NEWLINE', 'if', 'n', '<', 'base', ':', 'NEWLINE', 'INDENT', 'return', 'conver_tString', '[', 'n', ']', 'NEWLINE', 'DEDENT', 'else', ':', 'NEWLINE', 'INDENT', 'return', 'to_string', '(', 'n', '//', 'base', ',', 'base', ')', '+', 'conver_tString', '[', 'n', ']', '%', 'base', 'NEWLINE', 'DEDENT']\n",
            "/content/gdrive/MyDrive/data/python22.py\n",
            "Output of Read function is \n",
            " \n",
            "==================================================\n",
            "def to_string ( n , base ) :\n",
            "  conver_tString = \"0123456789ABCDEF\"\n",
            "if n < base :\n",
            "    return conver_tString [ n ]\n",
            " else :\n",
            "    return to_string ( n // base , base ) + conver_tString [ n ] % base\n",
            "\n",
            "\n",
            "src = ['write', 'a', 'function', 'to', 'return', 'the', 'type', 'roots', 'of', 'a', 'quadratic', 'equation', 'ax2', 'bx', 'c', '0']\n",
            "trg = ['def', 'root_type', '(', 'a', ':', 'float', ',', 'b', ':', 'float', ',', 'c', ':', 'float', ')', ':', 'NEWLINE', 'INDENT', 'if', 'b', '**', '2', '-', '4', '*', 'a', '*', 'c', '>=', '0', ':', 'NEWLINE', 'INDENT', 'return', \"'real'\", 'NEWLINE', 'DEDENT', 'else', ':', 'NEWLINE', 'INDENT', 'return', \"'imaginary'\", 'NEWLINE', 'DEDENT', 'DEDENT']\n",
            "predicted trg = ['def', 'root_type', '(', 'a', ':', 'float', ',', 'b', ':', 'float', ',', 'c', ':', 'float', ')', ':', 'NEWLINE', 'INDENT', 'if', 'b', '**', '2', '-', '4', '*', 'a', '*', 'c', '>=', '0', ':', 'NEWLINE', 'INDENT', 'return', \"'real'\", 'NEWLINE', 'DEDENT', 'else', ':', 'NEWLINE', 'INDENT', 'return', \"'imaginary'\", 'NEWLINE', 'DEDENT', 'DEDENT', '<eos>']\n",
            "/content/gdrive/MyDrive/data/python23.py\n",
            "Output of Read function is \n",
            " \n",
            "==================================================\n",
            "def root_type ( a : float , b : float , c : float ) :\n",
            "  if b ** 2 - 4 * a * c >= 0 :\n",
            "    return 'real'\n",
            " else :\n",
            "    return 'imaginary'\n",
            "\n",
            "\n",
            "src = ['write', 'a', 'program', 'to', 'find', 'the', 'difference', 'between', 'two', 'times']\n",
            "trg = ['def', 'difference', '(', 'h1', ',', 'm1', ',', 'h2', ',', 'm2', ')', ':', 'NEWLINE', 'INDENT', 't1', '=', 'h1', '*', '60', '+', 'm1', 'NEWLINE', 't2', '=', 'h2', '*', '60', '+', 'm2', 'NEWLINE', 'if', '(', 't1', '==', 't2', ')', ':', 'NEWLINE', 'INDENT', 'print', '(', '\"Both are same times\"', ')', 'NEWLINE', 'return', 'NEWLINE', 'DEDENT', 'else', ':', 'NEWLINE', 'INDENT', 'diff', '=', 't2', '-', 't1', 'NEWLINE', 'DEDENT', 'h', '=', '(', 'int', '(', 'diff', '/', '60', ')', ')', '%', '24', 'NEWLINE', 'm', '=', 'diff', '%', '60', 'NEWLINE', 'print', '(', 'h', ',', '\":\"', ',', 'm', ')', 'NEWLINE', 'DEDENT']\n",
            "predicted trg = ['def', 'difference', '(', 'h1', ',', 'm1', ',', 'h2', ',', 'm2', ')', ':', 'NEWLINE', 'INDENT', 't1', '=', 'h1', '*', '60', '+', 'm1', 'NEWLINE', 't2', '=', 'h2', '*', '60', '+', 'm2', 'NEWLINE', 'if', '(', 't1', '==', 't2', ')', ':', 'NEWLINE', 'INDENT', 'print', '(', '\"Both are same times\"', ')', 'NEWLINE', 'return', 'NEWLINE', 'DEDENT', 'else', ':', 'NEWLINE']\n",
            "/content/gdrive/MyDrive/data/python24.py\n",
            "Output of Read function is \n",
            " \n",
            "==================================================\n",
            "def difference ( h1 , m1 , h2 , m2 ) :\n",
            "  t1 = h1 * 60 + m1\n",
            "t2 = h2 * 60 + m2\n",
            "if ( t1 == t2 ) :\n",
            "  print ( \"Both are same times\" )\n",
            "  return\n",
            " else:\n",
            "\n",
            "src = ['write', 'a', 'function', 'to', 'calculate', 'the', 'moment', 'of', 'inertia', 'of', 'a', 'ring', 'of', 'mass', 'm', 'and', 'radius', 'r']\n",
            "trg = ['def', 'cal_mi_ring', '(', 'mass', ':', 'float', ',', 'radius', ':', 'float', ')', '->', 'float', ':', 'NEWLINE', 'INDENT', 'return', 'mass', '*', '(', 'radius', '**', '2', ')', 'NEWLINE', 'DEDENT']\n",
            "predicted trg = ['def', 'cal_mi_ring', '(', 'mass', ':', 'float', ',', 'radius', ':', 'float', ')', '->', 'float', ':', 'NEWLINE', 'INDENT', 'return', 'mass', '*', '(', 'radius', '**', '2', ')', 'NEWLINE', 'DEDENT', '<eos>']\n",
            "/content/gdrive/MyDrive/data/python25.py\n",
            "Output of Read function is \n",
            " \n",
            "==================================================\n",
            "def cal_mi_ring ( mass : float , radius : float ) -> float :\n",
            "    return mass * ( radius ** 2 )\n",
            "\n",
            "\n",
            "src = ['python', 'program', 'for', 'the', 'sum', 'of', 'first', 'n', 'numbers']\n",
            "trg = ['def', 'sum_n_num', '(', 'n', ')', ':', 'NEWLINE', 'INDENT', 'return', 'n', '*', '(', 'n', '+', '1', ')', '/', '2', 'NEWLINE', 'DEDENT']\n",
            "predicted trg = ['def', 'sum_n_num', '(', 'n', ')', ':', 'NEWLINE', 'INDENT', 'return', 'n', '*', '(', 'n', '+', '1', ')', '/', '2', 'NEWLINE', 'DEDENT', '<eos>']\n",
            "/content/gdrive/MyDrive/data/python26.py\n",
            "Output of Read function is \n",
            " \n",
            "==================================================\n",
            "def sum_n_num ( n ) :\n",
            "    return n * ( n + 1 ) / 2\n",
            "\n",
            "\n",
            "src = ['write', 'a', 'python', 'program', 'to', 'compute', 'the', 'sum', 'of', 'all', 'the', 'multiples', 'of', '3', 'or', '5', 'below', '500']\n",
            "trg = ['n', '=', '0', 'NEWLINE', 'for', 'i', 'in', 'range', '(', '1', ',', '500', ')', ':', 'NEWLINE', 'INDENT', 'if', 'not', 'i', '%', '5', 'or', 'not', 'i', '%', '3', ':', 'NEWLINE', 'INDENT', 'n', '=', 'n', '+', 'i', 'NEWLINE', 'DEDENT', 'DEDENT', 'print', '(', 'n', ')', 'NEWLINE']\n",
            "predicted trg = ['n', '=', '0', 'NEWLINE', 'for', 'i', 'in', 'range', '(', '1', ',', '500', ')', ':', 'NEWLINE', 'INDENT', 'if', 'not', 'i', '%', '5', 'or', 'not', 'i', '%', '3', ':', 'NEWLINE', 'INDENT', 'n', '=', 'n', '+', 'i', 'NEWLINE', 'DEDENT', 'DEDENT', 'print', '(', 'n', ')', 'NEWLINE', '<eos>']\n",
            "/content/gdrive/MyDrive/data/python27.py\n",
            "Output of Read function is \n",
            " \n",
            "==================================================\n",
            "n = 0\n",
            "for i in range ( 1 , 500 ) :\n",
            "  if not i % 5 or not i % 3 :\n",
            "  n = n + i\n",
            "  print ( n )\n",
            "\n",
            "\n",
            "src = ['write', 'a', 'python', 'program', 'that', 'takes', 'two', 'sets', 'as', 'input', 'and', 'print', 'the', 'common', 'elements']\n",
            "trg = ['s1', '=', 'eval', '(', 'input', '(', '\"Enter set 1 \"', ')', ')', 'NEWLINE', 's2', '=', 'eval', '(', 'input', '(', '\"Enter set 2 \"', ')', ')', 'NEWLINE', 'print', '(', 's1', '.', 'intersection', '(', 's2', ')', ')', 'NEWLINE']\n",
            "predicted trg = ['s1', '=', 'eval', '(', 'input', '(', '\"Enter set 1 \"', ')', ')', 'NEWLINE', 's2', '=', 'eval', '(', 'input', '(', '\"Enter set 2 \"', ')', ')', 'NEWLINE', 'print', '(', 's1', '.', 'intersection', '(', 's2', ')', ')', 'NEWLINE', '<eos>']\n",
            "/content/gdrive/MyDrive/data/python28.py\n",
            "Output of Read function is \n",
            " \n",
            "==================================================\n",
            "s1 = eval ( input ( \"Enter set 1 \" ) )\n",
            "s2 = eval ( input ( \"Enter set 2 \" ) )\n",
            "print ( s1 . intersection ( s2 ) )\n",
            "\n",
            "\n",
            "src = ['write', 'a', 'python', 'program', 'to', 'count', 'the', 'number', 'of', 'words', 'in', 'a', 'sentence']\n",
            "trg = ['test_string', '=', '\"This is a good book\"', 'NEWLINE', 'res', '=', 'len', '(', 'test_string', '.', 'split', '(', ')', ')', 'NEWLINE', 'print', '(', 'f\"The number of words in string are :{str(res)}\"', ')', 'NEWLINE']\n",
            "predicted trg = ['test_string', '=', '\"This is a good book\"', 'NEWLINE', 'res', '=', 'len', '(', 'test_string', '.', 'split', '(', ')', ')', 'NEWLINE', 'print', '(', 'f\"The number of words in string are :{str(res)}\"', ')', 'NEWLINE', '<eos>']\n",
            "/content/gdrive/MyDrive/data/python29.py\n",
            "Output of Read function is \n",
            " \n",
            "==================================================\n",
            "test_string = \"This is a good book\"\n",
            "res = len ( test_string . split ( ) )\n",
            "print ( f\"The number of words in string are :{str(res)}\" )\n",
            "\n",
            "\n",
            "src = ['deepcopy', 'in', 'python']\n",
            "trg = ['list1', '=', '[', '[', '1', ']', ',', '[', '2', ']', ']', 'NEWLINE', 'list2', '=', 'list1', '.', 'copy', '(', ')', 'NEWLINE', 'list3', '=', 'deepcopy', '(', 'list1', ')', 'NEWLINE', 'print', '(', \"'IDs:\\\\nlist1: {}\\\\nlist2: {}\\\\nlist3: {}\\\\n'\", 'NEWLINE', '.', 'format', '(', 'id', '(', 'list1', ')', ',', 'id', '(', 'list2', ')', ',', 'id', '(', 'list3', ')', ')', ')', 'NEWLINE']\n",
            "predicted trg = ['list1', '=', '[', '[', '1', ']', ',', '[', '2', ']', ']', 'NEWLINE', 'list2', '=', 'list1', '.', 'copy', '(', ')', 'NEWLINE', 'list3', '=', 'deepcopy', '(', 'list1', ')', 'NEWLINE', 'print', '(', \"'IDs:\\\\nlist1: {}\\\\nlist2: {}\\\\nlist3: {}\\\\n'\", 'NEWLINE', '.', 'format', '(', 'id', '(', 'list1', ')', ',', 'id', '(', 'list2', ')', ',', 'id', '(', 'list2', ')', ')', ')']\n",
            "/content/gdrive/MyDrive/data/python30.py\n",
            "Output of Read function is \n",
            " \n",
            "==================================================\n",
            "list1 = [ [ 1 ] , [ 2 ] ]\n",
            "list2 = list1 . copy ( )\n",
            "list3 = deepcopy ( list1 )\n",
            "print ( 'IDs:\\nlist1: {}\\nlist2: {}\\nlist3: {}\\n'\n",
            ". format ( id ( list1 ) , id ( list2 ) , id ( list2 ))\n",
            "\n",
            "src = ['write', 'a', 'python', 'function', 'to', 'count', 'the', 'number', 'of', 'words', 'in', 'a', 'text', 'file']\n",
            "trg = ['def', 'check_words', '(', ')', ':', 'NEWLINE', 'INDENT', 'fname', '=', 'input', '(', '\"file name: \"', ')', 'NEWLINE', 'num_words', '=', '0', 'NEWLINE', 'with', 'open', '(', 'fname', ',', \"'r'\", ')', 'as', 'f', ':', 'NEWLINE', 'INDENT', 'for', 'line', 'in', 'f', ':', 'NEWLINE', 'INDENT', 'words', '=', 'line', '.', 'split', '(', ')', 'NEWLINE', 'num_words', '+=', 'len', '(', 'words', ')', 'NEWLINE', 'DEDENT', 'DEDENT', 'print', '(', '\"Number of words = \"', ',', 'num_words', ')', 'NEWLINE', 'DEDENT']\n",
            "predicted trg = ['def', 'check_words', '(', ')', ':', 'NEWLINE', 'INDENT', 'fname', '=', 'input', '(', '\"file name: \"', ')', 'NEWLINE', 'num_words', '=', '0', 'NEWLINE', 'with', 'open', '(', 'fname', ',', \"'r'\", ')', 'as', 'f', ':', 'NEWLINE', 'INDENT', 'for', 'line', 'in', 'f', ':', 'NEWLINE', 'INDENT', 'words', '=', 'line', '.', 'split', '(', ')', 'NEWLINE', 'num_words', '+=', 'len', '(', 'words']\n",
            "/content/gdrive/MyDrive/data/python31.py\n",
            "Output of Read function is \n",
            " \n",
            "==================================================\n",
            "def check_words ( ) :\n",
            "  fname = input ( \"file name: \" )\n",
            "num_words = 0\n",
            "with open ( fname , 'r' ) as f :\n",
            "  for line in f :\n",
            "  words = line . split ( )\n",
            "num_words += len(\n",
            "\n",
            "src = ['python', 'funcction', 'to', 'find', 'the', 'factors', 'of', 'a', 'number']\n",
            "trg = ['def', 'print_factors', '(', 'x', ')', ':', 'NEWLINE', 'INDENT', 'print', '(', '\"The factors of\"', ',', 'x', ',', '\"are:\"', ')', 'NEWLINE', 'for', 'i', 'in', 'range', '(', '1', ',', 'x', '+', '1', ')', ':', 'NEWLINE', 'INDENT', 'if', 'x', '%', 'i', '==', '0', ':', 'NEWLINE', 'INDENT', 'print', '(', 'i', ')', 'NEWLINE', 'DEDENT', 'DEDENT', 'DEDENT']\n",
            "predicted trg = ['def', 'print_factors', '(', 'x', ')', ':', 'NEWLINE', 'INDENT', 'print', '(', '\"The factors of\"', ',', 'x', ',', '\"are:\"', ')', 'NEWLINE', 'for', 'i', 'in', 'range', '(', '1', ',', 'x', '+', '1', ')', ':', 'NEWLINE', 'INDENT', 'if', 'x', '%', 'i', '==', '0', ':', 'NEWLINE', 'INDENT', 'print', '(', 'i', ')', 'NEWLINE', 'DEDENT', 'DEDENT', 'DEDENT', '<eos>']\n",
            "/content/gdrive/MyDrive/data/python32.py\n",
            "Output of Read function is \n",
            " \n",
            "==================================================\n",
            "def print_factors ( x ) :\n",
            "  print ( \"The factors of\" , x , \"are:\" )\n",
            "for i in range ( 1 , x + 1 ) :\n",
            "  if x % i == 0 :\n",
            "  print ( i )\n",
            " \n",
            "\n",
            "src = ['write', 'python3', 'code', 'to', 'demonstrate', 'working', 'of', 'add', 'list', 'elements', 'to', 'tuples', 'list', 'using', 'list', 'comprehension', 'operator']\n",
            "trg = ['test_list', '=', '[', '(', '5', ',', '6', ')', ',', '(', '2', ',', '4', ')', ',', '(', '5', ',', '7', ')', ',', '(', '2', ',', '5', ')', ']', 'NEWLINE', 'print', '(', '\"The original list is : \"', '+', 'str', '(', 'test_list', ')', ')', 'NEWLINE', 'sub_list', '=', '[', '7', ',', '2', ',', '4', ',', '6', ']', 'NEWLINE', 'res', '=', '[', '(', '*', 'sub', ',', '*', 'sub_list', ')', 'for', 'sub', 'in', 'test_list', ']', 'NEWLINE', 'print', '(', '\"The modified list : \"', '+', 'str', '(', 'res', ')', ')', 'NEWLINE']\n",
            "predicted trg = ['test_list', '=', '[', '(', '5', ',', '6', ')', ',', '(', '2', ',', '4', ')', ',', '(', '5', ',', '7', ')', ',', '(', '2', ',', '5', ')', ']', 'NEWLINE', 'print', '(', '\"The original list is : \"', '+', 'str', '(', 'test_list', ')', ')', 'NEWLINE', 'sub_list', '=', '[', '7', ',', '2', ',', '4', ',', '6', ']', 'NEWLINE']\n",
            "/content/gdrive/MyDrive/data/python33.py\n",
            "Output of Read function is \n",
            " \n",
            "==================================================\n",
            "test_list = [ ( 5 , 6 ) , ( 2 , 4 ) , ( 5 , 7 ) , ( 2 , 5 ) ]\n",
            "print ( \"The original list is : \" + str ( test_list ) )\n",
            "sub_list = [ 7 , 2 , 4 , 6]\n",
            "\n",
            "src = ['python', 'parse', 'datetime', 'from', 'string']\n",
            "trg = ['from', 'datetime', 'import', 'datetime', 'NEWLINE', 'datetime_object', '=', 'datetime', '.', 'strptime', '(', \"'Jun 1 2005  1:33PM'\", ',', \"'%b %d %Y %I:%M%p'\", ')', 'NEWLINE']\n",
            "predicted trg = ['from', 'datetime', 'import', 'datetime', 'NEWLINE', 'datetime_object', '=', 'datetime', '.', 'strptime', '(', \"'Jun 1 2005  1:33PM'\", ',', \"'%b %d %Y %I:%M%p'\", ')', 'NEWLINE', '<eos>']\n",
            "/content/gdrive/MyDrive/data/python34.py\n",
            "Output of Read function is \n",
            " \n",
            "==================================================\n",
            "from datetime import datetime\n",
            "datetime_object = datetime . strptime ( 'Jun 1 2005  1:33PM' , '%b %d %Y %I:%M%p' )\n",
            "\n",
            "\n",
            "src = ['2', 'write', 'a', 'python', 'function', 'to', 'split', 'a', 'string', 'at', 'space']\n",
            "trg = ['def', 'string_split_at_space', '(', 'string', ')', ':', 'NEWLINE', 'INDENT', 'return', 'string', '.', 'split', '(', ')', 'NEWLINE', 'DEDENT']\n",
            "predicted trg = ['def', 'string_split_at_space', '(', 'string', ')', ':', 'NEWLINE', 'INDENT', 'return', 'string', '.', 'split', '(', ')', 'NEWLINE', 'DEDENT', '<eos>']\n",
            "/content/gdrive/MyDrive/data/python35.py\n",
            "Output of Read function is \n",
            " \n",
            "==================================================\n",
            "def string_split_at_space ( string ) :\n",
            "    return string . split ( )\n",
            "\n",
            "\n",
            "src = ['python', 'program', 'to', 'remove', 'leading', 'characters']\n",
            "trg = ['word', '=', '\" xyz \"', 'NEWLINE', 'lstrip', '=', 'word', '.', 'lstrip', '(', ')', 'NEWLINE', 'print', '(', 'f\"String ater removal of leading characters:{lstrip}\"', ')', 'NEWLINE']\n",
            "predicted trg = ['word', '=', '\" xyz \"', 'NEWLINE', 'lstrip', '=', 'word', '.', 'lstrip', '(', ')', 'NEWLINE', 'print', '(', 'f\"String ater removal of leading characters:{lstrip}\"', ')', 'NEWLINE', '<eos>']\n",
            "/content/gdrive/MyDrive/data/python36.py\n",
            "Output of Read function is \n",
            " \n",
            "==================================================\n",
            "word = \" xyz \"\n",
            "lstrip = word . lstrip ( )\n",
            "print ( f\"String ater removal of leading characters:{lstrip}\" )\n",
            "\n",
            "\n",
            "src = ['write', 'a', 'program', 'to', 'return', 'the', 'absolute', 'value', 'in', 'python']\n",
            "trg = ['def', 'get_absolute_value', '(', 'n', ')', ':', 'NEWLINE', 'INDENT', 'if', 'n', '>=', '0', ':', 'NEWLINE', 'INDENT', 'return', 'n', 'NEWLINE', 'DEDENT', 'else', ':', 'NEWLINE', 'INDENT', 'return', '-', 'n', 'NEWLINE', 'DEDENT', 'DEDENT', 'print', '(', 'get_absolute_value', '(', '101', ')', ')', 'NEWLINE']\n",
            "predicted trg = ['num', '=', '-', '10', 'NEWLINE', 'print', '(', \"f'Absolute of {num} is {abs(num)}'\", ')', 'NEWLINE', '<eos>']\n",
            "/content/gdrive/MyDrive/data/python37.py\n",
            "Output of Read function is \n",
            " \n",
            "==================================================\n",
            "num = - 10\n",
            "print ( f'Absolute of {num} is {abs(num)}' )\n",
            "\n",
            "\n",
            "src = ['reverse', 'a', 'given', 'string']\n",
            "trg = ['str1', '=', '\"PYnative\"', 'NEWLINE', 'print', '(', '\"Original String is:\"', ',', 'str1', ')', 'NEWLINE', 'str1', '=', 'str1', '[', ':', ':', '-', '1', ']', 'NEWLINE', 'print', '(', '\"Reversed String is:\"', ',', 'str1', ')', 'NEWLINE']\n",
            "predicted trg = ['str1', '=', '\"PYnative\"', 'NEWLINE', 'print', '(', '\"Original String is:\"', ',', 'str1', ')', 'NEWLINE', 'str1', '=', 'str1', '[', ':', ':', '-', '1', ']', 'NEWLINE', 'print', '(', '\"Reversed String is:\"', ',', 'str1', ')', 'NEWLINE', '<eos>']\n",
            "/content/gdrive/MyDrive/data/python38.py\n",
            "Output of Read function is \n",
            " \n",
            "==================================================\n",
            "str1 = \"PYnative\"\n",
            "print ( \"Original String is:\" , str1 )\n",
            "str1 = str1 [ : : - 1 ]\n",
            "print ( \"Reversed String is:\" , str1 )\n",
            "\n",
            "\n",
            "src = ['define', 'a', 'function', 'that', 'can', 'accept', 'two', 'strings', 'as', 'input', 'and', 'print', 'the', 'string', 'with', 'maximum', 'length', 'in', 'console', 'if', 'two', 'strings', 'have', 'the', 'same', 'length', 'then', 'the', 'function', 'should', 'print', 'al', 'l', 'strings', 'line', 'by', 'line']\n",
            "trg = ['def', 'max_len_str', '(', 's1', ',', 's2', ')', ':', 'NEWLINE', 'INDENT', 'len1', '=', 'len', '(', 's1', ')', 'NEWLINE', 'len2', '=', 'len', '(', 's2', ')', 'NEWLINE', 'if', 'len1', '>', 'len2', ':', 'NEWLINE', 'INDENT', 'print', '(', 's1', ')', 'NEWLINE', 'DEDENT', 'elif', 'len2', '>', 'len1', ':', 'NEWLINE', 'INDENT', 'print', '(', 's2', ')', 'NEWLINE', 'DEDENT', 'else', ':', 'NEWLINE', 'INDENT', 'print', '(', 's1', ')', 'NEWLINE', 'print', '(', 's2', ')', 'NEWLINE', 'DEDENT', 'DEDENT']\n",
            "predicted trg = ['def', 'max_len_str', '(', 's1', ',', 's2', ')', ':', 'NEWLINE', 'INDENT', 'len1', '=', 'len', '(', 's1', ')', 'NEWLINE', 'len2', '=', 'len', '(', 's2', ')', 'NEWLINE', 'if', 'len1', '>', 'len2', ':', 'NEWLINE', 'INDENT', 'print', '(', 's1', ')', 'NEWLINE', 'DEDENT', 'elif', 'len2', '>', 'len1', ':', 'NEWLINE', 'INDENT', 'print', '(', 's2', ')', 'NEWLINE', 'DEDENT']\n",
            "/content/gdrive/MyDrive/data/python39.py\n",
            "Output of Read function is \n",
            " \n",
            "==================================================\n",
            "def max_len_str ( s1 , s2 ) :\n",
            "  len1 = len ( s1 )\n",
            "len2 = len ( s2 )\n",
            "if len1 > len2 :\n",
            "  print ( s1 )\n",
            " elif len2 > len1 :\n",
            "  print ( s2 )\n",
            "\n",
            "\n",
            "src = ['write', 'a', 'function', 'that', 'returns', 'list', 'of', 'elements', 'with', 'n', 'power', 'to', 'elements', 'of', 'list']\n",
            "trg = ['def', 'n_power', '(', 'l1', ':', 'list', ',', 'power', ':', 'int', ')', '->', 'list', ':', 'NEWLINE', 'INDENT', 'return', '[', 'i', '**', 'power', 'for', 'i', 'in', 'l1', ']', 'NEWLINE', 'DEDENT']\n",
            "predicted trg = ['def', 'n_power', '(', 'l1', ':', 'list', ',', 'power', ':', 'int', ')', '->', 'list', ':', 'NEWLINE', 'INDENT', 'return', '[', 'i', '**', 'power', 'for', 'i', 'in', 'l1', ']', 'NEWLINE', 'DEDENT', '<eos>']\n",
            "/content/gdrive/MyDrive/data/python40.py\n",
            "Output of Read function is \n",
            " \n",
            "==================================================\n",
            "def n_power ( l1 : list , power : int ) -> list :\n",
            "    return [ i ** power for i in l1 ]\n",
            "\n",
            "\n",
            "src = ['python', 'program', 'to', 'raise', 'a', 'runtimeerror', 'exception']\n",
            "trg = ['raise', 'RuntimeError', '(', \"'something wrong'\", ')', 'NEWLINE']\n",
            "predicted trg = ['raise', 'RuntimeError', '(', \"'something wrong'\", ')', 'NEWLINE', '<eos>']\n",
            "/content/gdrive/MyDrive/data/python41.py\n",
            "Output of Read function is \n",
            " \n",
            "==================================================\n",
            "raise RuntimeError ( 'something wrong' )\n",
            "\n",
            "\n",
            "src = ['write', 'a', 'program', 'to', 'find', 'and', 'print', 'the', 'largest', 'among', 'three', 'number']\n",
            "trg = ['snum1', '=', '10', 'NEWLINE', 'num2', '=', '12', 'NEWLINE', 'num3', '=', '14', 'NEWLINE', 'if', '(', 'num1', '>=', 'num2', ')', 'and', '(', 'num1', '>=', 'num3', ')', ':', 'NEWLINE', 'INDENT', 'largest', '=', 'num1', 'NEWLINE', 'DEDENT', 'elif', '(', 'num2', '>=', 'num1', ')', 'and', '(', 'num2', '>=', 'num3', ')', ':', 'NEWLINE', 'INDENT', 'largest', '=', 'num2', 'NEWLINE', 'DEDENT', 'else', ':', 'largest', '=', 'num3', 'NEWLINE', 'print', '(', \"f'largest:{largest}'\", ')', 'NEWLINE']\n",
            "predicted trg = ['num1', '=', '10', 'NEWLINE', 'num2', '=', '14', 'NEWLINE', 'num3', '=', '12', 'NEWLINE', 'if', '(', 'num1', '>=', 'num2', ')', 'and', '(', 'num1', '>=', 'num3', ')', ':', 'NEWLINE', 'INDENT', 'largest', '=', 'num1', 'NEWLINE', 'DEDENT', 'elif', '(', 'num2', '>=', 'num1', ')', 'and', '(', 'num2', '>=', 'num3', ')', ':', 'NEWLINE', 'INDENT', 'largest', '=', 'num2']\n",
            "/content/gdrive/MyDrive/data/python42.py\n",
            "Output of Read function is \n",
            " \n",
            "==================================================\n",
            "num1 = 10\n",
            "num2 = 14\n",
            "num3 = 12\n",
            "if ( num1 >= num2 ) and ( num1 >= num3 ) :\n",
            "  largest = num1\n",
            " elif ( num2 >= num1 ) and ( num2 >= num3 ) :\n",
            "  largest=\n",
            "\n",
            "src = ['python', 'function', 'for', 'finding', 'the', 'derivative', 'of', 'tangent', 'angle']\n",
            "trg = ['def', 'dtangent', '(', 'angle', ')', ':', 'NEWLINE', 'INDENT', '\"\"\" returns the tangent value for an angle mentioned in radians\"\"\"', 'NEWLINE', 'return', '1', '/', '(', 'math', '.', 'cos', '(', 'angle', ')', '**', '2', ')', 'NEWLINE', 'DEDENT']\n",
            "predicted trg = ['def', 'dtangent', '(', 'angle', ')', ':', 'NEWLINE', 'INDENT', '\"\"\" returns the tangent value for an angle mentioned in radians\"\"\"', 'NEWLINE', 'return', '1', '/', '(', 'math', '.', 'cos', '(', 'angle', ')', '**', '2', ')', 'NEWLINE', 'DEDENT', '<eos>']\n",
            "/content/gdrive/MyDrive/data/python43.py\n",
            "Output of Read function is \n",
            " \n",
            "==================================================\n",
            "def dtangent ( angle ) :\n",
            "  \"\"\" returns the tangent value for an angle mentioned in radians\"\"\"\n",
            "  return 1 / ( math . cos ( angle ) ** 2 )\n",
            "\n",
            "\n",
            "src = ['write', 'python', 'code', 'to', 'demonstrate', 'to', 'remove', 'the', 'tuples', 'if', 'certain', 'criteria', 'met']\n",
            "trg = ['ini_tuple', '=', '[', '(', \"'b'\", ',', '100', ')', ',', '(', \"'c'\", ',', '200', ')', ',', '(', \"'c'\", ',', '45', ')', ',', 'NEWLINE', '(', \"'d'\", ',', '876', ')', ',', '(', \"'e'\", ',', '75', ')', ']', 'NEWLINE', 'print', '(', '\"intial_list\"', ',', 'str', '(', 'ini_tuple', ')', ')', 'NEWLINE', 'result', '=', '[', ']', 'NEWLINE', 'for', 'i', 'in', 'ini_tuple', ':', 'NEWLINE', 'INDENT', 'if', 'i', '[', '1', ']', '<=', '100', ':', 'NEWLINE', 'INDENT', 'result', '.', 'append', '(', 'i', ')', 'NEWLINE', 'DEDENT', 'DEDENT', 'print', '(', '\"Resultant tuple list: \"', ',', 'str', '(', 'result', ')', ')', 'NEWLINE']\n",
            "predicted trg = ['ini_tuple', '=', '[', '(', \"'b'\", ',', '100', ')', ',', '(', \"'c'\", ',', '200', ')', ',', '(', \"'c'\", ',', '45', ')', ',', 'NEWLINE', '(', \"'d'\", ',', '876', ')', ',', '(', \"'e'\", ',', '75', ')', ']', 'NEWLINE', 'print', '(', '\"intial_list\"', ',', 'str', '(', 'ini_tuple', ')', ')', 'NEWLINE', 'result', '=', '[', ']', 'NEWLINE']\n",
            "/content/gdrive/MyDrive/data/python44.py\n",
            "Output of Read function is \n",
            " \n",
            "==================================================\n",
            "ini_tuple = [ ( 'b' , 100 ) , ( 'c' , 200 ) , ( 'c' , 45 ) ,\n",
            "( 'd' , 876 ) , ( 'e' , 75 ) ]\n",
            "print ( \"intial_list\" , str ( ini_tuple ) )\n",
            "result = []\n",
            "\n",
            "src = ['write', 'a', 'function', 'to', 'check', 'if', 'a', 'lower', 'case', 'letter', 'exists', 'in', 'a', 'given', 'string']\n",
            "trg = ['def', 'check_lower', '(', 'str1', ')', ':', 'NEWLINE', 'INDENT', 'for', 'char', 'in', 'str1', ':', 'NEWLINE', 'INDENT', 'k', '=', 'char', '.', 'islower', '(', ')', 'NEWLINE', 'if', 'k', '==', 'True', ':', 'NEWLINE', 'INDENT', 'return', 'True', 'NEWLINE', 'DEDENT', 'DEDENT', 'if', '(', 'k', '!=', '1', ')', ':', 'NEWLINE', 'INDENT', 'return', 'False', 'NEWLINE', 'DEDENT', 'DEDENT']\n",
            "predicted trg = ['def', 'check_lower', '(', 'str1', ')', ':', 'NEWLINE', 'INDENT', 'for', 'char', 'in', 'str1', ':', 'NEWLINE', 'INDENT', 'k', '=', 'char', '.', 'islower', '(', ')', 'NEWLINE', 'if', 'k', '==', 'True', ':', 'NEWLINE', 'INDENT', 'return', 'True', 'NEWLINE', 'DEDENT', 'DEDENT', 'if', '(', 'k', '!=', '1', ')', ':', 'NEWLINE', 'INDENT', 'return', 'False', 'NEWLINE', 'DEDENT', 'DEDENT', '<eos>']\n",
            "/content/gdrive/MyDrive/data/python45.py\n",
            "Output of Read function is \n",
            " \n",
            "==================================================\n",
            "def check_lower ( str1 ) :\n",
            "  for char in str1 :\n",
            "  k = char . islower ( )\n",
            "if k == True :\n",
            "    return True\n",
            "  if ( k != 1 ) :\n",
            "    return False\n",
            "\n",
            "\n",
            "src = ['write', 'a', 'python', 'function', 'to', 'return', 'the', 'number', 'of', 'whitespace', 'separated', 'tokens']\n",
            "trg = ['def', 'tokenise', '(', 'string', ')', ':', 'NEWLINE', 'INDENT', 'return', 'len', '(', 'string', '.', 'split', '(', ')', ')', 'NEWLINE', 'DEDENT']\n",
            "predicted trg = ['def', 'tokenise', '(', 'string', ')', ':', 'NEWLINE', 'INDENT', 'return', 'len', '(', 'string', '.', 'split', '(', ')', ')', 'NEWLINE', 'DEDENT', '<eos>']\n",
            "/content/gdrive/MyDrive/data/python46.py\n",
            "Output of Read function is \n",
            " \n",
            "==================================================\n",
            "def tokenise ( string ) :\n",
            "    return len ( string . split ( ) )\n",
            "\n",
            "\n",
            "src = ['python', 'program', 'to', 'display', 'fibonacci', 'sequence', 'using', 'recursion']\n",
            "trg = ['def', 'recur_fibo', '(', 'n', ')', ':', 'NEWLINE', 'INDENT', 'if', 'n', '<=', '1', ':', 'NEWLINE', 'INDENT', 'return', 'n', 'NEWLINE', 'DEDENT', 'else', ':', 'NEWLINE', 'INDENT', 'return', '(', 'recur_fibo', '(', 'n', '-', '1', ')', '+', 'recur_fibo', '(', 'n', '-', '2', ')', ')', 'NEWLINE', 'DEDENT', 'DEDENT', 'nterms', '=', '10', 'NEWLINE', 'if', 'nterms', '<=', '0', ':', 'NEWLINE', 'INDENT', 'print', '(', '\"Plese enter a positive integer\"', ')', 'NEWLINE', 'DEDENT', 'else', ':', 'NEWLINE', 'INDENT', 'print', '(', '\"Fibonacci sequence:\"', ')', 'NEWLINE', 'for', 'i', 'in', 'range', '(', 'nterms', ')', ':', 'NEWLINE', 'INDENT', 'print', '(', 'recur_fibo', '(', 'i', ')', ')', 'NEWLINE', 'DEDENT', 'DEDENT']\n",
            "predicted trg = ['def', 'recur_fibo', '(', 'n', ')', ':', 'NEWLINE', 'INDENT', 'if', 'n', '<=', '1', ':', 'NEWLINE', 'INDENT', 'return', 'n', 'NEWLINE', 'DEDENT', 'else', ':', 'NEWLINE', 'INDENT', 'return', '(', 'recur_fibo', '(', 'n', '-', '1', ')', '+', 'recur_fibo', '(', 'n', '-', '2', ')', ')', 'NEWLINE', 'DEDENT', 'DEDENT', 'nterms', '=', '10', 'NEWLINE', 'if', 'nterms', '<=', '0']\n",
            "/content/gdrive/MyDrive/data/python47.py\n",
            "Output of Read function is \n",
            " \n",
            "==================================================\n",
            "def recur_fibo ( n ) :\n",
            "  if n <= 1 :\n",
            "    return n\n",
            " else :\n",
            "    return ( recur_fibo ( n - 1 ) + recur_fibo ( n - 2 ) )\n",
            "  nterms = 10\n",
            "if nterms<=\n",
            "\n",
            "src = ['split', 'strings']\n",
            "trg = ['word', '=', '\"Hello World\"', 'NEWLINE', 'ksplit', '=', 'word', '.', 'split', '(', \"' '\", ')', 'NEWLINE', 'print', '(', 'f\"Splited Strings: {ksplit}\"', ')', 'NEWLINE']\n",
            "predicted trg = ['word', '=', '\"Hello World\"', 'NEWLINE', 'ksplit', '=', 'word', '.', 'split', '(', \"' '\", ')', 'NEWLINE', 'print', '(', 'f\"Splited Strings: {ksplit}\"', ')', 'NEWLINE', '<eos>']\n",
            "/content/gdrive/MyDrive/data/python48.py\n",
            "Output of Read function is \n",
            " \n",
            "==================================================\n",
            "word = \"Hello World\"\n",
            "ksplit = word . split ( ' ' )\n",
            "print ( f\"Splited Strings: {ksplit}\" )\n",
            "\n",
            "\n",
            "src = ['write', 'a', 'program', 'to', 'increment', 'number', 'which', 'is', 'at', 'end', 'of', 'string']\n",
            "trg = ['import', 're', 'NEWLINE', 'str1', '=', \"'count001'\", 'NEWLINE', 'res', '=', 're', '.', 'sub', '(', \"r'[0-9]+$'\", ',', 'NEWLINE', 'lambda', 'x', ':', 'f\"{str(int(x.group())+1).zfill(len(x.group()))}\"', ',', 'NEWLINE', 'str1', ')', 'NEWLINE', 'print', '(', '\"Incremented numeric String : \"', '+', 'str', '(', 'res', ')', ')', 'NEWLINE']\n",
            "predicted trg = ['import', 're', 'NEWLINE', 'str1', '=', \"'count001'\", 'NEWLINE', 'res', '=', 're', '.', 'sub', '(', \"r'[0-9]+$'\", ',', 'NEWLINE', 'lambda', 'x', ':', 'f\"{str(int(x.group())+1).zfill(len(x.group()))}\"', ',', 'str1', ')', 'NEWLINE', 'print', '(', '\"Incremented numeric String : \"', '+', 'str', '(', 'res', ')', ')', 'NEWLINE', '<eos>']\n",
            "/content/gdrive/MyDrive/data/python49.py\n",
            "Output of Read function is \n",
            " \n",
            "==================================================\n",
            "import re\n",
            "str1 = 'count001'\n",
            "res = re . sub ( r'[0-9]+$' ,\n",
            "lambda x : f\"{str(int(x.group())+1).zfill(len(x.group()))}\" , str1 )\n",
            "print ( \"Incremented numeric String : \" + str ( res ) )\n",
            "\n",
            "\n"
          ],
          "name": "stdout"
        }
      ]
    },
    {
      "cell_type": "markdown",
      "metadata": {
        "id": "O9C0ih97sSrP"
      },
      "source": [
        "###  9.Execute Python Code through Interpreter\n",
        "The above python code generated is stored as \"python1.py\",\"python2.py\",\"python3.py\".The same has to be validated to check whether the code can be executed.\n",
        "\n",
        "**25 such programs are selected and executed**"
      ]
    },
    {
      "cell_type": "markdown",
      "metadata": {
        "id": "MfZz7-XH68Ey"
      },
      "source": [
        "#### Python 1"
      ]
    },
    {
      "cell_type": "code",
      "metadata": {
        "id": "pSU7H9PTt2dX"
      },
      "source": [
        "!cp -rf '/content/gdrive/MyDrive/data/python2.py' ."
      ],
      "execution_count": null,
      "outputs": []
    },
    {
      "cell_type": "code",
      "metadata": {
        "colab": {
          "base_uri": "https://localhost:8080/"
        },
        "id": "8ESj6GFVCM2B",
        "outputId": "7bc01d38-2dfd-452f-a542-a1c832168b0d"
      },
      "source": [
        "import python2"
      ],
      "execution_count": null,
      "outputs": [
        {
          "output_type": "stream",
          "text": [
            "{1: 'a', 2: 'b', 3: 'c'}\n"
          ],
          "name": "stdout"
        }
      ]
    },
    {
      "cell_type": "markdown",
      "metadata": {
        "id": "k44699c97G3J"
      },
      "source": [
        "#### Python 2"
      ]
    },
    {
      "cell_type": "code",
      "metadata": {
        "id": "Ovx8vZNTw-8p"
      },
      "source": [
        "!cp -rf '/content/gdrive/MyDrive/data/python4.py' ."
      ],
      "execution_count": null,
      "outputs": []
    },
    {
      "cell_type": "code",
      "metadata": {
        "colab": {
          "base_uri": "https://localhost:8080/"
        },
        "id": "rYwJRhTGtTUP",
        "outputId": "cc8c21dd-b8ec-41fe-fc1f-da9164eea0c2"
      },
      "source": [
        "import python4"
      ],
      "execution_count": null,
      "outputs": [
        {
          "output_type": "stream",
          "text": [
            "Enter a tuple:(1,2)\n",
            "[2, 2]\n"
          ],
          "name": "stdout"
        }
      ]
    },
    {
      "cell_type": "markdown",
      "metadata": {
        "id": "jnEBjJui7bsr"
      },
      "source": [
        "#### Python 3"
      ]
    },
    {
      "cell_type": "code",
      "metadata": {
        "id": "1dNNbzzr0U2i"
      },
      "source": [
        "!cp -rf '/content/gdrive/MyDrive/data/python11.py' ."
      ],
      "execution_count": null,
      "outputs": []
    },
    {
      "cell_type": "code",
      "metadata": {
        "colab": {
          "base_uri": "https://localhost:8080/"
        },
        "id": "6PVJjzye0gO3",
        "outputId": "94e88082-082e-42a6-e05b-606a0f3bfc60"
      },
      "source": [
        "import python11"
      ],
      "execution_count": null,
      "outputs": [
        {
          "output_type": "stream",
          "text": [
            "The original string is : Gfg is best . Geeks are good and Geeks like Gfg\n",
            "The words frequency : {'Gfg': 2, 'is': 1, 'best': 1, '.': 1, 'Geeks': 2, 'are': 1, 'good': 1, 'and': 1, 'like': 1}\n"
          ],
          "name": "stdout"
        }
      ]
    },
    {
      "cell_type": "markdown",
      "metadata": {
        "id": "EbltQQDN7hgr"
      },
      "source": [
        "#### Python 4"
      ]
    },
    {
      "cell_type": "code",
      "metadata": {
        "id": "zEQn2U9j1edB"
      },
      "source": [
        "!cp -rf '/content/gdrive/MyDrive/data/python13.py' ."
      ],
      "execution_count": null,
      "outputs": []
    },
    {
      "cell_type": "code",
      "metadata": {
        "colab": {
          "base_uri": "https://localhost:8080/"
        },
        "id": "cEY018Sa1viE",
        "outputId": "ab521eaf-c8a2-4d1e-d5b1-ebf05cce8618"
      },
      "source": [
        "import python13"
      ],
      "execution_count": null,
      "outputs": [
        {
          "output_type": "stream",
          "text": [
            "size of list =  112\n"
          ],
          "name": "stdout"
        }
      ]
    },
    {
      "cell_type": "markdown",
      "metadata": {
        "id": "gCDxdWrS7kh1"
      },
      "source": [
        "#### Python 5"
      ]
    },
    {
      "cell_type": "code",
      "metadata": {
        "id": "PV3404uK10oq"
      },
      "source": [
        "!cp -rf '/content/gdrive/MyDrive/data/python14.py' .\n"
      ],
      "execution_count": null,
      "outputs": []
    },
    {
      "cell_type": "code",
      "metadata": {
        "colab": {
          "base_uri": "https://localhost:8080/"
        },
        "id": "g28CxSiH2HC5",
        "outputId": "53de7f8c-a4fc-400c-98df-b97e3009c51e"
      },
      "source": [
        "import python14"
      ],
      "execution_count": null,
      "outputs": [
        {
          "output_type": "stream",
          "text": [
            "sanfoundry\n"
          ],
          "name": "stdout"
        }
      ]
    },
    {
      "cell_type": "markdown",
      "metadata": {
        "id": "BkDj3JTT7nzl"
      },
      "source": [
        "#### Python 6"
      ]
    },
    {
      "cell_type": "code",
      "metadata": {
        "id": "k99GG40d2KjF"
      },
      "source": [
        "!cp -rf '/content/gdrive/MyDrive/data/python15.py' ."
      ],
      "execution_count": null,
      "outputs": []
    },
    {
      "cell_type": "code",
      "metadata": {
        "colab": {
          "base_uri": "https://localhost:8080/"
        },
        "id": "PW_tiVMP2RfR",
        "outputId": "11e43cd1-a675-4e5e-ffda-f5789a90ed74"
      },
      "source": [
        "import python15\n",
        "python15.cal_gforce(1.2,1.3,2.4)"
      ],
      "execution_count": null,
      "outputs": [
        {
          "output_type": "execute_result",
          "data": {
            "text/plain": [
              "1.8075416666666664e-11"
            ]
          },
          "metadata": {
            "tags": []
          },
          "execution_count": 151
        }
      ]
    },
    {
      "cell_type": "markdown",
      "metadata": {
        "id": "Z83UYzj87tho"
      },
      "source": [
        "#### Python 7"
      ]
    },
    {
      "cell_type": "code",
      "metadata": {
        "id": "dswtX8Sg3Bwa"
      },
      "source": [
        "!cp -rf '/content/gdrive/MyDrive/data/python16.py' ."
      ],
      "execution_count": null,
      "outputs": []
    },
    {
      "cell_type": "code",
      "metadata": {
        "colab": {
          "base_uri": "https://localhost:8080/"
        },
        "id": "9ItpqrTc3Lp0",
        "outputId": "c9aedbab-1699-4e26-fa6e-c6351970e26a"
      },
      "source": [
        "import python16"
      ],
      "execution_count": null,
      "outputs": [
        {
          "output_type": "stream",
          "text": [
            "2 X 2 random float array in [0.0, 1.0] \n",
            " [[0.48420933 0.16791637]\n",
            " [0.81881357 0.7461074 ]] \n",
            "\n"
          ],
          "name": "stdout"
        }
      ]
    },
    {
      "cell_type": "markdown",
      "metadata": {
        "id": "lEuh5-Dz7xPe"
      },
      "source": [
        "#### Python 8"
      ]
    },
    {
      "cell_type": "code",
      "metadata": {
        "id": "qgfTQ9DT3TNH"
      },
      "source": [
        "!cp -rf '/content/gdrive/MyDrive/data/python17.py' ."
      ],
      "execution_count": null,
      "outputs": []
    },
    {
      "cell_type": "code",
      "metadata": {
        "colab": {
          "base_uri": "https://localhost:8080/"
        },
        "id": "ZSRwb9w031Ll",
        "outputId": "59b08821-c136-47fc-b72e-2198240b64e9"
      },
      "source": [
        "import python17"
      ],
      "execution_count": null,
      "outputs": [
        {
          "output_type": "stream",
          "text": [
            "48\n"
          ],
          "name": "stdout"
        }
      ]
    },
    {
      "cell_type": "markdown",
      "metadata": {
        "id": "l98g_-1I77Bz"
      },
      "source": [
        "#### Python 9"
      ]
    },
    {
      "cell_type": "code",
      "metadata": {
        "id": "udhZwPMc338s"
      },
      "source": [
        "!cp -rf '/content/gdrive/MyDrive/data/python19.py' ."
      ],
      "execution_count": null,
      "outputs": []
    },
    {
      "cell_type": "markdown",
      "metadata": {
        "id": "kV9aI76K7_zR"
      },
      "source": [
        ""
      ]
    },
    {
      "cell_type": "code",
      "metadata": {
        "colab": {
          "base_uri": "https://localhost:8080/",
          "height": 35
        },
        "id": "SfIf8S8R4EOl",
        "outputId": "b69c5212-d548-4cbc-d3a9-96807686b5cd"
      },
      "source": [
        "import python19\n",
        "python19.capitalize('goodmorning')"
      ],
      "execution_count": null,
      "outputs": [
        {
          "output_type": "execute_result",
          "data": {
            "application/vnd.google.colaboratory.intrinsic+json": {
              "type": "string"
            },
            "text/plain": [
              "'Goodmorning'"
            ]
          },
          "metadata": {
            "tags": []
          },
          "execution_count": 157
        }
      ]
    },
    {
      "cell_type": "markdown",
      "metadata": {
        "id": "VKkAzBIy7-XN"
      },
      "source": [
        "#### Python 10"
      ]
    },
    {
      "cell_type": "code",
      "metadata": {
        "id": "Bq00XGIF4O3S"
      },
      "source": [
        "!cp -rf '/content/gdrive/MyDrive/data/python21.py' ."
      ],
      "execution_count": null,
      "outputs": []
    },
    {
      "cell_type": "code",
      "metadata": {
        "colab": {
          "base_uri": "https://localhost:8080/"
        },
        "id": "eFrrABfk4VL5",
        "outputId": "7f3a6345-4769-4741-fcb3-b69ba4cbb019"
      },
      "source": [
        "import python21"
      ],
      "execution_count": null,
      "outputs": [
        {
          "output_type": "stream",
          "text": [
            "255\n"
          ],
          "name": "stdout"
        }
      ]
    },
    {
      "cell_type": "markdown",
      "metadata": {
        "id": "20GqS6dT8DRL"
      },
      "source": [
        "#### Python 11"
      ]
    },
    {
      "cell_type": "code",
      "metadata": {
        "id": "-evpm8Vj4pw1"
      },
      "source": [
        "!cp -rf '/content/gdrive/MyDrive/data/python25.py' ."
      ],
      "execution_count": null,
      "outputs": []
    },
    {
      "cell_type": "code",
      "metadata": {
        "colab": {
          "base_uri": "https://localhost:8080/"
        },
        "id": "ecp1Dsry42u4",
        "outputId": "8ea6cb41-7d91-4096-ba89-0cc7d1c63fef"
      },
      "source": [
        "import python25\n",
        "python25.cal_mi_ring(2.5,3.5)"
      ],
      "execution_count": null,
      "outputs": [
        {
          "output_type": "execute_result",
          "data": {
            "text/plain": [
              "30.625"
            ]
          },
          "metadata": {
            "tags": []
          },
          "execution_count": 167
        }
      ]
    },
    {
      "cell_type": "markdown",
      "metadata": {
        "id": "QCh-DMrW8GYC"
      },
      "source": [
        "#### Python 12"
      ]
    },
    {
      "cell_type": "code",
      "metadata": {
        "id": "uirJAs5j5fJg"
      },
      "source": [
        "!cp -rf '/content/gdrive/MyDrive/data/python26.py' ."
      ],
      "execution_count": null,
      "outputs": []
    },
    {
      "cell_type": "code",
      "metadata": {
        "colab": {
          "base_uri": "https://localhost:8080/"
        },
        "id": "QjlLEXyY5mLc",
        "outputId": "677fe61e-10fc-4b0c-80c8-784c7f65a703"
      },
      "source": [
        "import python26\n",
        "python26.sum_n_num(4)"
      ],
      "execution_count": null,
      "outputs": [
        {
          "output_type": "execute_result",
          "data": {
            "text/plain": [
              "10.0"
            ]
          },
          "metadata": {
            "tags": []
          },
          "execution_count": 169
        }
      ]
    },
    {
      "cell_type": "markdown",
      "metadata": {
        "id": "CDejmD6B8Jou"
      },
      "source": [
        "#### Python 13"
      ]
    },
    {
      "cell_type": "code",
      "metadata": {
        "id": "WCQ31h8y5wJ0"
      },
      "source": [
        "!cp -rf '/content/gdrive/MyDrive/data/python28.py' ."
      ],
      "execution_count": null,
      "outputs": []
    },
    {
      "cell_type": "code",
      "metadata": {
        "colab": {
          "base_uri": "https://localhost:8080/"
        },
        "id": "3wAmI-7s56Cm",
        "outputId": "7c590ba6-6315-42d6-b5e4-4eb746c83e9e"
      },
      "source": [
        "import python28"
      ],
      "execution_count": null,
      "outputs": [
        {
          "output_type": "stream",
          "text": [
            "Enter set 1 {1,2,3}\n",
            "Enter set 2 {3,4,5}\n",
            "{3}\n"
          ],
          "name": "stdout"
        }
      ]
    },
    {
      "cell_type": "markdown",
      "metadata": {
        "id": "wP76ybua8NDe"
      },
      "source": [
        "#### Python 14"
      ]
    },
    {
      "cell_type": "code",
      "metadata": {
        "id": "yTajb7hD6YC6"
      },
      "source": [
        "!cp -rf '/content/gdrive/MyDrive/data/python29.py' ."
      ],
      "execution_count": null,
      "outputs": []
    },
    {
      "cell_type": "code",
      "metadata": {
        "colab": {
          "base_uri": "https://localhost:8080/"
        },
        "id": "g_QC22Rn6lkW",
        "outputId": "e36e8442-775a-4dcb-b118-cc4b0489feef"
      },
      "source": [
        "import python29"
      ],
      "execution_count": null,
      "outputs": [
        {
          "output_type": "stream",
          "text": [
            "The number of words in string are :5\n"
          ],
          "name": "stdout"
        }
      ]
    },
    {
      "cell_type": "markdown",
      "metadata": {
        "id": "-OyFa5a68y6z"
      },
      "source": [
        "#### Python 15"
      ]
    },
    {
      "cell_type": "code",
      "metadata": {
        "id": "A9PThGQ76ql_"
      },
      "source": [
        "!cp -rf '/content/gdrive/MyDrive/data/python33.py' ."
      ],
      "execution_count": null,
      "outputs": []
    },
    {
      "cell_type": "code",
      "metadata": {
        "colab": {
          "base_uri": "https://localhost:8080/"
        },
        "id": "yjpK80SH8vEB",
        "outputId": "c2700af0-7e2b-4ef1-e17a-d5577a03c4f5"
      },
      "source": [
        "import python33"
      ],
      "execution_count": null,
      "outputs": [
        {
          "output_type": "stream",
          "text": [
            "The original list is : [(5, 6), (2, 4), (5, 7), (2, 5)]\n"
          ],
          "name": "stdout"
        }
      ]
    },
    {
      "cell_type": "markdown",
      "metadata": {
        "id": "m3VcTMig8_T8"
      },
      "source": [
        "#### Python 16"
      ]
    },
    {
      "cell_type": "code",
      "metadata": {
        "id": "9fAgMhjM86Bj"
      },
      "source": [
        "!cp -rf '/content/gdrive/MyDrive/data/python35.py' ."
      ],
      "execution_count": null,
      "outputs": []
    },
    {
      "cell_type": "code",
      "metadata": {
        "colab": {
          "base_uri": "https://localhost:8080/"
        },
        "id": "8CNNQTlu9Izl",
        "outputId": "1a845ad4-144f-47eb-8d18-2f28eba06046"
      },
      "source": [
        "import python35\n",
        "python35.string_split_at_space(\"abc cde gee\")"
      ],
      "execution_count": null,
      "outputs": [
        {
          "output_type": "execute_result",
          "data": {
            "text/plain": [
              "['abc', 'cde', 'gee']"
            ]
          },
          "metadata": {
            "tags": []
          },
          "execution_count": 185
        }
      ]
    },
    {
      "cell_type": "markdown",
      "metadata": {
        "id": "o9Lmq3iv9d6X"
      },
      "source": [
        "#### Python 17"
      ]
    },
    {
      "cell_type": "code",
      "metadata": {
        "id": "pOUWJIxU9hpj"
      },
      "source": [
        "!cp -rf '/content/gdrive/MyDrive/data/python36.py' ."
      ],
      "execution_count": null,
      "outputs": []
    },
    {
      "cell_type": "code",
      "metadata": {
        "colab": {
          "base_uri": "https://localhost:8080/"
        },
        "id": "KYO8-jjO9nel",
        "outputId": "035a1956-fe87-4cde-8096-16d0c60b3887"
      },
      "source": [
        "import python36"
      ],
      "execution_count": null,
      "outputs": [
        {
          "output_type": "stream",
          "text": [
            "String ater removal of leading characters:xyz \n"
          ],
          "name": "stdout"
        }
      ]
    },
    {
      "cell_type": "markdown",
      "metadata": {
        "id": "ifOqMntv9usU"
      },
      "source": [
        "#### Python 18"
      ]
    },
    {
      "cell_type": "code",
      "metadata": {
        "id": "LSPaTCjp9tpV"
      },
      "source": [
        "!cp -rf '/content/gdrive/MyDrive/data/python37.py' ."
      ],
      "execution_count": null,
      "outputs": []
    },
    {
      "cell_type": "code",
      "metadata": {
        "colab": {
          "base_uri": "https://localhost:8080/"
        },
        "id": "V3-bqNR6-Ap-",
        "outputId": "50b61c8e-4d1d-4f84-e55f-80a916ce629e"
      },
      "source": [
        "import python37"
      ],
      "execution_count": null,
      "outputs": [
        {
          "output_type": "stream",
          "text": [
            "Absolute of -10 is 10\n"
          ],
          "name": "stdout"
        }
      ]
    },
    {
      "cell_type": "markdown",
      "metadata": {
        "id": "tDgF_XNK-EVN"
      },
      "source": [
        "#### Python 19"
      ]
    },
    {
      "cell_type": "code",
      "metadata": {
        "id": "LUabHYKv-OLu"
      },
      "source": [
        "!cp -rf '/content/gdrive/MyDrive/data/python38.py' ."
      ],
      "execution_count": null,
      "outputs": []
    },
    {
      "cell_type": "code",
      "metadata": {
        "colab": {
          "base_uri": "https://localhost:8080/"
        },
        "id": "sq3HUgZS-Z2d",
        "outputId": "296a0165-71c7-4faa-d48b-dc7195802368"
      },
      "source": [
        "import python38"
      ],
      "execution_count": null,
      "outputs": [
        {
          "output_type": "stream",
          "text": [
            "Original String is: PYnative\n",
            "Reversed String is: evitanYP\n"
          ],
          "name": "stdout"
        }
      ]
    },
    {
      "cell_type": "markdown",
      "metadata": {
        "id": "mrowQblO-oAw"
      },
      "source": [
        "#### Python 20"
      ]
    },
    {
      "cell_type": "code",
      "metadata": {
        "id": "zeUBCIKQ-gBx"
      },
      "source": [
        "!cp -rf '/content/gdrive/MyDrive/data/python40.py' ."
      ],
      "execution_count": null,
      "outputs": []
    },
    {
      "cell_type": "code",
      "metadata": {
        "colab": {
          "base_uri": "https://localhost:8080/"
        },
        "id": "d59qjoB8-wQQ",
        "outputId": "eefaa8d6-7704-4c7d-aad3-72d5f0e83ef7"
      },
      "source": [
        "import python40\n",
        "python40.n_power([1,2,3],4)"
      ],
      "execution_count": null,
      "outputs": [
        {
          "output_type": "execute_result",
          "data": {
            "text/plain": [
              "[1, 16, 81]"
            ]
          },
          "metadata": {
            "tags": []
          },
          "execution_count": 194
        }
      ]
    },
    {
      "cell_type": "markdown",
      "metadata": {
        "id": "LLkLzCIK-c3b"
      },
      "source": [
        "#### Python 21"
      ]
    },
    {
      "cell_type": "code",
      "metadata": {
        "id": "bPs-N4ve_EOd"
      },
      "source": [
        "!cp -rf '/content/gdrive/MyDrive/data/python41.py' ."
      ],
      "execution_count": null,
      "outputs": []
    },
    {
      "cell_type": "code",
      "metadata": {
        "colab": {
          "base_uri": "https://localhost:8080/",
          "height": 218
        },
        "id": "Wekbkqfe_KJ1",
        "outputId": "a4048926-aa89-4d7b-f468-6ca47da421ef"
      },
      "source": [
        "import python41"
      ],
      "execution_count": null,
      "outputs": [
        {
          "output_type": "error",
          "ename": "RuntimeError",
          "evalue": "ignored",
          "traceback": [
            "\u001b[0;31m---------------------------------------------------------------------------\u001b[0m",
            "\u001b[0;31mRuntimeError\u001b[0m                              Traceback (most recent call last)",
            "\u001b[0;32m<ipython-input-198-23617ee8e74a>\u001b[0m in \u001b[0;36m<module>\u001b[0;34m()\u001b[0m\n\u001b[0;32m----> 1\u001b[0;31m \u001b[0;32mimport\u001b[0m \u001b[0mpython41\u001b[0m\u001b[0;34m\u001b[0m\u001b[0;34m\u001b[0m\u001b[0m\n\u001b[0m",
            "\u001b[0;32m/content/python41.py\u001b[0m in \u001b[0;36m<module>\u001b[0;34m()\u001b[0m\n\u001b[0;32m----> 1\u001b[0;31m \u001b[0;32mraise\u001b[0m \u001b[0mRuntimeError\u001b[0m \u001b[0;34m(\u001b[0m \u001b[0;34m'something wrong'\u001b[0m \u001b[0;34m)\u001b[0m\u001b[0;34m\u001b[0m\u001b[0;34m\u001b[0m\u001b[0m\n\u001b[0m",
            "\u001b[0;31mRuntimeError\u001b[0m: something wrong"
          ]
        }
      ]
    },
    {
      "cell_type": "markdown",
      "metadata": {
        "id": "XHSsFTGw_Wq5"
      },
      "source": [
        "#### Python *22*"
      ]
    },
    {
      "cell_type": "code",
      "metadata": {
        "id": "3q6Kp2Fi_q0U"
      },
      "source": [
        "!cp -rf '/content/gdrive/MyDrive/data/python44.py' ."
      ],
      "execution_count": null,
      "outputs": []
    },
    {
      "cell_type": "code",
      "metadata": {
        "colab": {
          "base_uri": "https://localhost:8080/"
        },
        "id": "8aBYWcRV_vZe",
        "outputId": "3631672d-5c74-4560-b8e3-54dedecca804"
      },
      "source": [
        "import python44"
      ],
      "execution_count": null,
      "outputs": [
        {
          "output_type": "stream",
          "text": [
            "intial_list [('b', 100), ('c', 200), ('c', 45), ('d', 876), ('e', 75)]\n"
          ],
          "name": "stdout"
        }
      ]
    },
    {
      "cell_type": "markdown",
      "metadata": {
        "id": "vv2JPRNGAYry"
      },
      "source": [
        "#### Python 23"
      ]
    },
    {
      "cell_type": "code",
      "metadata": {
        "id": "udOigNcZAghJ"
      },
      "source": [
        "!cp -rf '/content/gdrive/MyDrive/data/python46.py' ."
      ],
      "execution_count": null,
      "outputs": []
    },
    {
      "cell_type": "code",
      "metadata": {
        "colab": {
          "base_uri": "https://localhost:8080/"
        },
        "id": "SrxoXVZCAo6C",
        "outputId": "c615721f-62fa-40de-ef93-c84135e1ee56"
      },
      "source": [
        "import python46\n",
        "python46.tokenise(\"Hello how are you\")"
      ],
      "execution_count": null,
      "outputs": [
        {
          "output_type": "execute_result",
          "data": {
            "text/plain": [
              "4"
            ]
          },
          "metadata": {
            "tags": []
          },
          "execution_count": 210
        }
      ]
    },
    {
      "cell_type": "markdown",
      "metadata": {
        "id": "wemvI1e2BIZv"
      },
      "source": [
        "#### Python 24"
      ]
    },
    {
      "cell_type": "code",
      "metadata": {
        "id": "Z2qsyN7nBMCF"
      },
      "source": [
        "!cp -rf '/content/gdrive/MyDrive/data/python48.py' ."
      ],
      "execution_count": null,
      "outputs": []
    },
    {
      "cell_type": "code",
      "metadata": {
        "colab": {
          "base_uri": "https://localhost:8080/"
        },
        "id": "ZqeyOY-lBVEu",
        "outputId": "15e0ec83-80f3-4f02-9c11-881863f54345"
      },
      "source": [
        "import python48"
      ],
      "execution_count": null,
      "outputs": [
        {
          "output_type": "stream",
          "text": [
            "Splited Strings: ['Hello', 'World']\n"
          ],
          "name": "stdout"
        }
      ]
    },
    {
      "cell_type": "markdown",
      "metadata": {
        "id": "sH2WNAlOBaVc"
      },
      "source": [
        "#### Python 25"
      ]
    },
    {
      "cell_type": "code",
      "metadata": {
        "id": "iRPK8iB1BiCC"
      },
      "source": [
        "!cp -rf '/content/gdrive/MyDrive/data/python49.py' ."
      ],
      "execution_count": null,
      "outputs": []
    },
    {
      "cell_type": "code",
      "metadata": {
        "colab": {
          "base_uri": "https://localhost:8080/"
        },
        "id": "Ap02N1OSBw5w",
        "outputId": "09c4e6ef-a6c1-4a37-bbbf-c8779b7f6146"
      },
      "source": [
        "import python49"
      ],
      "execution_count": null,
      "outputs": [
        {
          "output_type": "stream",
          "text": [
            "Incremented numeric String : count002\n"
          ],
          "name": "stdout"
        }
      ]
    },
    {
      "cell_type": "markdown",
      "metadata": {
        "id": "QY7SsC8TEzFn"
      },
      "source": [
        "Just looking at the test loss, we get better performance. This is a pretty good sign that this model architecture is doing something right! Relieving the information compression seems like the way forard, and in the next tutorial we'll expand on this even further with *attention*."
      ]
    }
  ]
}