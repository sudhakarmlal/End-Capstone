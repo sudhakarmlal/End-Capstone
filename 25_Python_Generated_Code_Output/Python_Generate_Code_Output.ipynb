{
  "nbformat": 4,
  "nbformat_minor": 0,
  "metadata": {
    "accelerator": "GPU",
    "colab": {
      "name": "Python_Generate_Code_Output.ipynb",
      "provenance": [],
      "collapsed_sections": []
    },
    "kernelspec": {
      "display_name": "Python 3",
      "language": "python",
      "name": "python3"
    },
    "language_info": {
      "codemirror_mode": {
        "name": "ipython",
        "version": 3
      },
      "file_extension": ".py",
      "mimetype": "text/x-python",
      "name": "python",
      "nbconvert_exporter": "python",
      "pygments_lexer": "ipython3",
      "version": "3.8.2"
    }
  },
  "cells": [
    {
      "cell_type": "markdown",
      "metadata": {
        "id": "O9C0ih97sSrP"
      },
      "source": [
        "### Execute Python Code through Interpreter\n",
        "The above python code generated is stored as \"python1.py\",\"python2.py\",\"python3.py\".The same has to be validated to check whether the code can be executed.\n",
        "\n",
        "**25 such programs are selected and executed**"
      ]
    },
    {
      "cell_type": "markdown",
      "metadata": {
        "id": "MfZz7-XH68Ey"
      },
      "source": [
        "#### Python 1"
      ]
    },
    {
      "cell_type": "code",
      "metadata": {
        "id": "pSU7H9PTt2dX"
      },
      "source": [
        "!cp -rf '/content/gdrive/MyDrive/data/python2.py' ."
      ],
      "execution_count": 5,
      "outputs": []
    },
    {
      "cell_type": "code",
      "metadata": {
        "colab": {
          "base_uri": "https://localhost:8080/"
        },
        "id": "8ESj6GFVCM2B",
        "outputId": "7bc01d38-2dfd-452f-a542-a1c832168b0d"
      },
      "source": [
        "import python2"
      ],
      "execution_count": 6,
      "outputs": [
        {
          "output_type": "stream",
          "text": [
            "{1: 'a', 2: 'b', 3: 'c'}\n"
          ],
          "name": "stdout"
        }
      ]
    },
    {
      "cell_type": "markdown",
      "metadata": {
        "id": "k44699c97G3J"
      },
      "source": [
        "#### Python 2"
      ]
    },
    {
      "cell_type": "code",
      "metadata": {
        "id": "Ovx8vZNTw-8p"
      },
      "source": [
        "!cp -rf '/content/gdrive/MyDrive/data/python4.py' ."
      ],
      "execution_count": 178,
      "outputs": []
    },
    {
      "cell_type": "code",
      "metadata": {
        "colab": {
          "base_uri": "https://localhost:8080/"
        },
        "id": "rYwJRhTGtTUP",
        "outputId": "cc8c21dd-b8ec-41fe-fc1f-da9164eea0c2"
      },
      "source": [
        "import python4"
      ],
      "execution_count": 138,
      "outputs": [
        {
          "output_type": "stream",
          "text": [
            "Enter a tuple:(1,2)\n",
            "[2, 2]\n"
          ],
          "name": "stdout"
        }
      ]
    },
    {
      "cell_type": "markdown",
      "metadata": {
        "id": "jnEBjJui7bsr"
      },
      "source": [
        "#### Python 3"
      ]
    },
    {
      "cell_type": "code",
      "metadata": {
        "id": "1dNNbzzr0U2i"
      },
      "source": [
        "!cp -rf '/content/gdrive/MyDrive/data/python11.py' ."
      ],
      "execution_count": 143,
      "outputs": []
    },
    {
      "cell_type": "code",
      "metadata": {
        "colab": {
          "base_uri": "https://localhost:8080/"
        },
        "id": "6PVJjzye0gO3",
        "outputId": "94e88082-082e-42a6-e05b-606a0f3bfc60"
      },
      "source": [
        "import python11"
      ],
      "execution_count": 144,
      "outputs": [
        {
          "output_type": "stream",
          "text": [
            "The original string is : Gfg is best . Geeks are good and Geeks like Gfg\n",
            "The words frequency : {'Gfg': 2, 'is': 1, 'best': 1, '.': 1, 'Geeks': 2, 'are': 1, 'good': 1, 'and': 1, 'like': 1}\n"
          ],
          "name": "stdout"
        }
      ]
    },
    {
      "cell_type": "markdown",
      "metadata": {
        "id": "EbltQQDN7hgr"
      },
      "source": [
        "#### Python 4"
      ]
    },
    {
      "cell_type": "code",
      "metadata": {
        "id": "zEQn2U9j1edB"
      },
      "source": [
        "!cp -rf '/content/gdrive/MyDrive/data/python13.py' ."
      ],
      "execution_count": 145,
      "outputs": []
    },
    {
      "cell_type": "code",
      "metadata": {
        "colab": {
          "base_uri": "https://localhost:8080/"
        },
        "id": "cEY018Sa1viE",
        "outputId": "ab521eaf-c8a2-4d1e-d5b1-ebf05cce8618"
      },
      "source": [
        "import python13"
      ],
      "execution_count": 146,
      "outputs": [
        {
          "output_type": "stream",
          "text": [
            "size of list =  112\n"
          ],
          "name": "stdout"
        }
      ]
    },
    {
      "cell_type": "markdown",
      "metadata": {
        "id": "gCDxdWrS7kh1"
      },
      "source": [
        "#### Python 5"
      ]
    },
    {
      "cell_type": "code",
      "metadata": {
        "id": "PV3404uK10oq"
      },
      "source": [
        "!cp -rf '/content/gdrive/MyDrive/data/python14.py' .\n"
      ],
      "execution_count": 147,
      "outputs": []
    },
    {
      "cell_type": "code",
      "metadata": {
        "colab": {
          "base_uri": "https://localhost:8080/"
        },
        "id": "g28CxSiH2HC5",
        "outputId": "53de7f8c-a4fc-400c-98df-b97e3009c51e"
      },
      "source": [
        "import python14"
      ],
      "execution_count": 148,
      "outputs": [
        {
          "output_type": "stream",
          "text": [
            "sanfoundry\n"
          ],
          "name": "stdout"
        }
      ]
    },
    {
      "cell_type": "markdown",
      "metadata": {
        "id": "BkDj3JTT7nzl"
      },
      "source": [
        "#### Python 6"
      ]
    },
    {
      "cell_type": "code",
      "metadata": {
        "id": "k99GG40d2KjF"
      },
      "source": [
        "!cp -rf '/content/gdrive/MyDrive/data/python15.py' ."
      ],
      "execution_count": 150,
      "outputs": []
    },
    {
      "cell_type": "code",
      "metadata": {
        "colab": {
          "base_uri": "https://localhost:8080/"
        },
        "id": "PW_tiVMP2RfR",
        "outputId": "11e43cd1-a675-4e5e-ffda-f5789a90ed74"
      },
      "source": [
        "import python15\n",
        "python15.cal_gforce(1.2,1.3,2.4)"
      ],
      "execution_count": 151,
      "outputs": [
        {
          "output_type": "execute_result",
          "data": {
            "text/plain": [
              "1.8075416666666664e-11"
            ]
          },
          "metadata": {
            "tags": []
          },
          "execution_count": 151
        }
      ]
    },
    {
      "cell_type": "markdown",
      "metadata": {
        "id": "Z83UYzj87tho"
      },
      "source": [
        "#### Python 7"
      ]
    },
    {
      "cell_type": "code",
      "metadata": {
        "id": "dswtX8Sg3Bwa"
      },
      "source": [
        "!cp -rf '/content/gdrive/MyDrive/data/python16.py' ."
      ],
      "execution_count": 152,
      "outputs": []
    },
    {
      "cell_type": "code",
      "metadata": {
        "colab": {
          "base_uri": "https://localhost:8080/"
        },
        "id": "9ItpqrTc3Lp0",
        "outputId": "c9aedbab-1699-4e26-fa6e-c6351970e26a"
      },
      "source": [
        "import python16"
      ],
      "execution_count": 153,
      "outputs": [
        {
          "output_type": "stream",
          "text": [
            "2 X 2 random float array in [0.0, 1.0] \n",
            " [[0.48420933 0.16791637]\n",
            " [0.81881357 0.7461074 ]] \n",
            "\n"
          ],
          "name": "stdout"
        }
      ]
    },
    {
      "cell_type": "markdown",
      "metadata": {
        "id": "lEuh5-Dz7xPe"
      },
      "source": [
        "#### Python 8"
      ]
    },
    {
      "cell_type": "code",
      "metadata": {
        "id": "qgfTQ9DT3TNH"
      },
      "source": [
        "!cp -rf '/content/gdrive/MyDrive/data/python17.py' ."
      ],
      "execution_count": 154,
      "outputs": []
    },
    {
      "cell_type": "code",
      "metadata": {
        "colab": {
          "base_uri": "https://localhost:8080/"
        },
        "id": "ZSRwb9w031Ll",
        "outputId": "59b08821-c136-47fc-b72e-2198240b64e9"
      },
      "source": [
        "import python17"
      ],
      "execution_count": 155,
      "outputs": [
        {
          "output_type": "stream",
          "text": [
            "48\n"
          ],
          "name": "stdout"
        }
      ]
    },
    {
      "cell_type": "markdown",
      "metadata": {
        "id": "l98g_-1I77Bz"
      },
      "source": [
        "#### Python 9"
      ]
    },
    {
      "cell_type": "code",
      "metadata": {
        "id": "udhZwPMc338s"
      },
      "source": [
        "!cp -rf '/content/gdrive/MyDrive/data/python19.py' ."
      ],
      "execution_count": 156,
      "outputs": []
    },
    {
      "cell_type": "markdown",
      "metadata": {
        "id": "kV9aI76K7_zR"
      },
      "source": [
        ""
      ]
    },
    {
      "cell_type": "code",
      "metadata": {
        "colab": {
          "base_uri": "https://localhost:8080/",
          "height": 35
        },
        "id": "SfIf8S8R4EOl",
        "outputId": "b69c5212-d548-4cbc-d3a9-96807686b5cd"
      },
      "source": [
        "import python19\n",
        "python19.capitalize('goodmorning')"
      ],
      "execution_count": 157,
      "outputs": [
        {
          "output_type": "execute_result",
          "data": {
            "application/vnd.google.colaboratory.intrinsic+json": {
              "type": "string"
            },
            "text/plain": [
              "'Goodmorning'"
            ]
          },
          "metadata": {
            "tags": []
          },
          "execution_count": 157
        }
      ]
    },
    {
      "cell_type": "markdown",
      "metadata": {
        "id": "VKkAzBIy7-XN"
      },
      "source": [
        "#### Python 10"
      ]
    },
    {
      "cell_type": "code",
      "metadata": {
        "id": "Bq00XGIF4O3S"
      },
      "source": [
        "!cp -rf '/content/gdrive/MyDrive/data/python21.py' ."
      ],
      "execution_count": 161,
      "outputs": []
    },
    {
      "cell_type": "code",
      "metadata": {
        "colab": {
          "base_uri": "https://localhost:8080/"
        },
        "id": "eFrrABfk4VL5",
        "outputId": "7f3a6345-4769-4741-fcb3-b69ba4cbb019"
      },
      "source": [
        "import python21"
      ],
      "execution_count": 162,
      "outputs": [
        {
          "output_type": "stream",
          "text": [
            "255\n"
          ],
          "name": "stdout"
        }
      ]
    },
    {
      "cell_type": "markdown",
      "metadata": {
        "id": "20GqS6dT8DRL"
      },
      "source": [
        "#### Python 11"
      ]
    },
    {
      "cell_type": "code",
      "metadata": {
        "id": "-evpm8Vj4pw1"
      },
      "source": [
        "!cp -rf '/content/gdrive/MyDrive/data/python25.py' ."
      ],
      "execution_count": 165,
      "outputs": []
    },
    {
      "cell_type": "code",
      "metadata": {
        "colab": {
          "base_uri": "https://localhost:8080/"
        },
        "id": "ecp1Dsry42u4",
        "outputId": "8ea6cb41-7d91-4096-ba89-0cc7d1c63fef"
      },
      "source": [
        "import python25\n",
        "python25.cal_mi_ring(2.5,3.5)"
      ],
      "execution_count": 167,
      "outputs": [
        {
          "output_type": "execute_result",
          "data": {
            "text/plain": [
              "30.625"
            ]
          },
          "metadata": {
            "tags": []
          },
          "execution_count": 167
        }
      ]
    },
    {
      "cell_type": "markdown",
      "metadata": {
        "id": "QCh-DMrW8GYC"
      },
      "source": [
        "#### Python 12"
      ]
    },
    {
      "cell_type": "code",
      "metadata": {
        "id": "uirJAs5j5fJg"
      },
      "source": [
        "!cp -rf '/content/gdrive/MyDrive/data/python26.py' ."
      ],
      "execution_count": 168,
      "outputs": []
    },
    {
      "cell_type": "code",
      "metadata": {
        "colab": {
          "base_uri": "https://localhost:8080/"
        },
        "id": "QjlLEXyY5mLc",
        "outputId": "677fe61e-10fc-4b0c-80c8-784c7f65a703"
      },
      "source": [
        "import python26\n",
        "python26.sum_n_num(4)"
      ],
      "execution_count": 169,
      "outputs": [
        {
          "output_type": "execute_result",
          "data": {
            "text/plain": [
              "10.0"
            ]
          },
          "metadata": {
            "tags": []
          },
          "execution_count": 169
        }
      ]
    },
    {
      "cell_type": "markdown",
      "metadata": {
        "id": "CDejmD6B8Jou"
      },
      "source": [
        "#### Python 13"
      ]
    },
    {
      "cell_type": "code",
      "metadata": {
        "id": "WCQ31h8y5wJ0"
      },
      "source": [
        "!cp -rf '/content/gdrive/MyDrive/data/python28.py' ."
      ],
      "execution_count": 170,
      "outputs": []
    },
    {
      "cell_type": "code",
      "metadata": {
        "colab": {
          "base_uri": "https://localhost:8080/"
        },
        "id": "3wAmI-7s56Cm",
        "outputId": "7c590ba6-6315-42d6-b5e4-4eb746c83e9e"
      },
      "source": [
        "import python28"
      ],
      "execution_count": 173,
      "outputs": [
        {
          "output_type": "stream",
          "text": [
            "Enter set 1 {1,2,3}\n",
            "Enter set 2 {3,4,5}\n",
            "{3}\n"
          ],
          "name": "stdout"
        }
      ]
    },
    {
      "cell_type": "markdown",
      "metadata": {
        "id": "wP76ybua8NDe"
      },
      "source": [
        "#### Python 14"
      ]
    },
    {
      "cell_type": "code",
      "metadata": {
        "id": "yTajb7hD6YC6"
      },
      "source": [
        "!cp -rf '/content/gdrive/MyDrive/data/python29.py' ."
      ],
      "execution_count": 174,
      "outputs": []
    },
    {
      "cell_type": "code",
      "metadata": {
        "colab": {
          "base_uri": "https://localhost:8080/"
        },
        "id": "g_QC22Rn6lkW",
        "outputId": "e36e8442-775a-4dcb-b118-cc4b0489feef"
      },
      "source": [
        "import python29"
      ],
      "execution_count": 175,
      "outputs": [
        {
          "output_type": "stream",
          "text": [
            "The number of words in string are :5\n"
          ],
          "name": "stdout"
        }
      ]
    },
    {
      "cell_type": "markdown",
      "metadata": {
        "id": "-OyFa5a68y6z"
      },
      "source": [
        "#### Python 15"
      ]
    },
    {
      "cell_type": "code",
      "metadata": {
        "id": "A9PThGQ76ql_"
      },
      "source": [
        "!cp -rf '/content/gdrive/MyDrive/data/python33.py' ."
      ],
      "execution_count": 179,
      "outputs": []
    },
    {
      "cell_type": "code",
      "metadata": {
        "colab": {
          "base_uri": "https://localhost:8080/"
        },
        "id": "yjpK80SH8vEB",
        "outputId": "c2700af0-7e2b-4ef1-e17a-d5577a03c4f5"
      },
      "source": [
        "import python33"
      ],
      "execution_count": 180,
      "outputs": [
        {
          "output_type": "stream",
          "text": [
            "The original list is : [(5, 6), (2, 4), (5, 7), (2, 5)]\n"
          ],
          "name": "stdout"
        }
      ]
    },
    {
      "cell_type": "markdown",
      "metadata": {
        "id": "m3VcTMig8_T8"
      },
      "source": [
        "#### Python 16"
      ]
    },
    {
      "cell_type": "code",
      "metadata": {
        "id": "9fAgMhjM86Bj"
      },
      "source": [
        "!cp -rf '/content/gdrive/MyDrive/data/python35.py' ."
      ],
      "execution_count": 183,
      "outputs": []
    },
    {
      "cell_type": "code",
      "metadata": {
        "colab": {
          "base_uri": "https://localhost:8080/"
        },
        "id": "8CNNQTlu9Izl",
        "outputId": "1a845ad4-144f-47eb-8d18-2f28eba06046"
      },
      "source": [
        "import python35\n",
        "python35.string_split_at_space(\"abc cde gee\")"
      ],
      "execution_count": 185,
      "outputs": [
        {
          "output_type": "execute_result",
          "data": {
            "text/plain": [
              "['abc', 'cde', 'gee']"
            ]
          },
          "metadata": {
            "tags": []
          },
          "execution_count": 185
        }
      ]
    },
    {
      "cell_type": "markdown",
      "metadata": {
        "id": "o9Lmq3iv9d6X"
      },
      "source": [
        "#### Python 17"
      ]
    },
    {
      "cell_type": "code",
      "metadata": {
        "id": "pOUWJIxU9hpj"
      },
      "source": [
        "!cp -rf '/content/gdrive/MyDrive/data/python36.py' ."
      ],
      "execution_count": 186,
      "outputs": []
    },
    {
      "cell_type": "code",
      "metadata": {
        "colab": {
          "base_uri": "https://localhost:8080/"
        },
        "id": "KYO8-jjO9nel",
        "outputId": "035a1956-fe87-4cde-8096-16d0c60b3887"
      },
      "source": [
        "import python36"
      ],
      "execution_count": 187,
      "outputs": [
        {
          "output_type": "stream",
          "text": [
            "String ater removal of leading characters:xyz \n"
          ],
          "name": "stdout"
        }
      ]
    },
    {
      "cell_type": "markdown",
      "metadata": {
        "id": "ifOqMntv9usU"
      },
      "source": [
        "#### Python 18"
      ]
    },
    {
      "cell_type": "code",
      "metadata": {
        "id": "LSPaTCjp9tpV"
      },
      "source": [
        "!cp -rf '/content/gdrive/MyDrive/data/python37.py' ."
      ],
      "execution_count": 188,
      "outputs": []
    },
    {
      "cell_type": "code",
      "metadata": {
        "colab": {
          "base_uri": "https://localhost:8080/"
        },
        "id": "V3-bqNR6-Ap-",
        "outputId": "50b61c8e-4d1d-4f84-e55f-80a916ce629e"
      },
      "source": [
        "import python37"
      ],
      "execution_count": 189,
      "outputs": [
        {
          "output_type": "stream",
          "text": [
            "Absolute of -10 is 10\n"
          ],
          "name": "stdout"
        }
      ]
    },
    {
      "cell_type": "markdown",
      "metadata": {
        "id": "tDgF_XNK-EVN"
      },
      "source": [
        "#### Python 19"
      ]
    },
    {
      "cell_type": "code",
      "metadata": {
        "id": "LUabHYKv-OLu"
      },
      "source": [
        "!cp -rf '/content/gdrive/MyDrive/data/python38.py' ."
      ],
      "execution_count": 191,
      "outputs": []
    },
    {
      "cell_type": "code",
      "metadata": {
        "colab": {
          "base_uri": "https://localhost:8080/"
        },
        "id": "sq3HUgZS-Z2d",
        "outputId": "296a0165-71c7-4faa-d48b-dc7195802368"
      },
      "source": [
        "import python38"
      ],
      "execution_count": 192,
      "outputs": [
        {
          "output_type": "stream",
          "text": [
            "Original String is: PYnative\n",
            "Reversed String is: evitanYP\n"
          ],
          "name": "stdout"
        }
      ]
    },
    {
      "cell_type": "markdown",
      "metadata": {
        "id": "mrowQblO-oAw"
      },
      "source": [
        "#### Python 20"
      ]
    },
    {
      "cell_type": "code",
      "metadata": {
        "id": "zeUBCIKQ-gBx"
      },
      "source": [
        "!cp -rf '/content/gdrive/MyDrive/data/python40.py' ."
      ],
      "execution_count": 193,
      "outputs": []
    },
    {
      "cell_type": "code",
      "metadata": {
        "colab": {
          "base_uri": "https://localhost:8080/"
        },
        "id": "d59qjoB8-wQQ",
        "outputId": "eefaa8d6-7704-4c7d-aad3-72d5f0e83ef7"
      },
      "source": [
        "import python40\n",
        "python40.n_power([1,2,3],4)"
      ],
      "execution_count": 194,
      "outputs": [
        {
          "output_type": "execute_result",
          "data": {
            "text/plain": [
              "[1, 16, 81]"
            ]
          },
          "metadata": {
            "tags": []
          },
          "execution_count": 194
        }
      ]
    },
    {
      "cell_type": "markdown",
      "metadata": {
        "id": "LLkLzCIK-c3b"
      },
      "source": [
        "#### Python 21"
      ]
    },
    {
      "cell_type": "code",
      "metadata": {
        "id": "bPs-N4ve_EOd"
      },
      "source": [
        "!cp -rf '/content/gdrive/MyDrive/data/python41.py' ."
      ],
      "execution_count": 197,
      "outputs": []
    },
    {
      "cell_type": "code",
      "metadata": {
        "colab": {
          "base_uri": "https://localhost:8080/",
          "height": 218
        },
        "id": "Wekbkqfe_KJ1",
        "outputId": "a4048926-aa89-4d7b-f468-6ca47da421ef"
      },
      "source": [
        "import python41"
      ],
      "execution_count": 198,
      "outputs": [
        {
          "output_type": "error",
          "ename": "RuntimeError",
          "evalue": "ignored",
          "traceback": [
            "\u001b[0;31m---------------------------------------------------------------------------\u001b[0m",
            "\u001b[0;31mRuntimeError\u001b[0m                              Traceback (most recent call last)",
            "\u001b[0;32m<ipython-input-198-23617ee8e74a>\u001b[0m in \u001b[0;36m<module>\u001b[0;34m()\u001b[0m\n\u001b[0;32m----> 1\u001b[0;31m \u001b[0;32mimport\u001b[0m \u001b[0mpython41\u001b[0m\u001b[0;34m\u001b[0m\u001b[0;34m\u001b[0m\u001b[0m\n\u001b[0m",
            "\u001b[0;32m/content/python41.py\u001b[0m in \u001b[0;36m<module>\u001b[0;34m()\u001b[0m\n\u001b[0;32m----> 1\u001b[0;31m \u001b[0;32mraise\u001b[0m \u001b[0mRuntimeError\u001b[0m \u001b[0;34m(\u001b[0m \u001b[0;34m'something wrong'\u001b[0m \u001b[0;34m)\u001b[0m\u001b[0;34m\u001b[0m\u001b[0;34m\u001b[0m\u001b[0m\n\u001b[0m",
            "\u001b[0;31mRuntimeError\u001b[0m: something wrong"
          ]
        }
      ]
    },
    {
      "cell_type": "markdown",
      "metadata": {
        "id": "XHSsFTGw_Wq5"
      },
      "source": [
        "#### Python *22*"
      ]
    },
    {
      "cell_type": "code",
      "metadata": {
        "id": "3q6Kp2Fi_q0U"
      },
      "source": [
        "!cp -rf '/content/gdrive/MyDrive/data/python44.py' ."
      ],
      "execution_count": 204,
      "outputs": []
    },
    {
      "cell_type": "code",
      "metadata": {
        "colab": {
          "base_uri": "https://localhost:8080/"
        },
        "id": "8aBYWcRV_vZe",
        "outputId": "3631672d-5c74-4560-b8e3-54dedecca804"
      },
      "source": [
        "import python44"
      ],
      "execution_count": 205,
      "outputs": [
        {
          "output_type": "stream",
          "text": [
            "intial_list [('b', 100), ('c', 200), ('c', 45), ('d', 876), ('e', 75)]\n"
          ],
          "name": "stdout"
        }
      ]
    },
    {
      "cell_type": "markdown",
      "metadata": {
        "id": "vv2JPRNGAYry"
      },
      "source": [
        "#### Python 23"
      ]
    },
    {
      "cell_type": "code",
      "metadata": {
        "id": "udOigNcZAghJ"
      },
      "source": [
        "!cp -rf '/content/gdrive/MyDrive/data/python46.py' ."
      ],
      "execution_count": 208,
      "outputs": []
    },
    {
      "cell_type": "code",
      "metadata": {
        "colab": {
          "base_uri": "https://localhost:8080/"
        },
        "id": "SrxoXVZCAo6C",
        "outputId": "c615721f-62fa-40de-ef93-c84135e1ee56"
      },
      "source": [
        "import python46\n",
        "python46.tokenise(\"Hello how are you\")"
      ],
      "execution_count": 210,
      "outputs": [
        {
          "output_type": "execute_result",
          "data": {
            "text/plain": [
              "4"
            ]
          },
          "metadata": {
            "tags": []
          },
          "execution_count": 210
        }
      ]
    },
    {
      "cell_type": "markdown",
      "metadata": {
        "id": "wemvI1e2BIZv"
      },
      "source": [
        "#### Python 24"
      ]
    },
    {
      "cell_type": "code",
      "metadata": {
        "id": "Z2qsyN7nBMCF"
      },
      "source": [
        "!cp -rf '/content/gdrive/MyDrive/data/python48.py' ."
      ],
      "execution_count": 211,
      "outputs": []
    },
    {
      "cell_type": "code",
      "metadata": {
        "colab": {
          "base_uri": "https://localhost:8080/"
        },
        "id": "ZqeyOY-lBVEu",
        "outputId": "15e0ec83-80f3-4f02-9c11-881863f54345"
      },
      "source": [
        "import python48"
      ],
      "execution_count": 212,
      "outputs": [
        {
          "output_type": "stream",
          "text": [
            "Splited Strings: ['Hello', 'World']\n"
          ],
          "name": "stdout"
        }
      ]
    },
    {
      "cell_type": "markdown",
      "metadata": {
        "id": "sH2WNAlOBaVc"
      },
      "source": [
        "#### Python 25"
      ]
    },
    {
      "cell_type": "code",
      "metadata": {
        "id": "iRPK8iB1BiCC"
      },
      "source": [
        "!cp -rf '/content/gdrive/MyDrive/data/python49.py' ."
      ],
      "execution_count": 7,
      "outputs": []
    },
    {
      "cell_type": "code",
      "metadata": {
        "colab": {
          "base_uri": "https://localhost:8080/"
        },
        "id": "Ap02N1OSBw5w",
        "outputId": "09c4e6ef-a6c1-4a37-bbbf-c8779b7f6146"
      },
      "source": [
        "import python49"
      ],
      "execution_count": 8,
      "outputs": [
        {
          "output_type": "stream",
          "text": [
            "Incremented numeric String : count002\n"
          ],
          "name": "stdout"
        }
      ]
    },
    {
      "cell_type": "markdown",
      "metadata": {
        "id": "QY7SsC8TEzFn"
      },
      "source": [
        "Just looking at the test loss, we get better performance. This is a pretty good sign that this model architecture is doing something right! Relieving the information compression seems like the way forard, and in the next tutorial we'll expand on this even further with *attention*."
      ]
    }
  ]
}